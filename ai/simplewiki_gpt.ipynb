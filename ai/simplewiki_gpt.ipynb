{
  "cells": [
    {
      "cell_type": "markdown",
      "metadata": {
        "id": "6PL532bKENuG"
      },
      "source": [
        "# Part 6 - \"Attention is all you need.\""
      ]
    },
    {
      "cell_type": "markdown",
      "metadata": {
        "id": "Swm7ilWoENuH"
      },
      "source": [
        "## Installation"
      ]
    },
    {
      "cell_type": "code",
      "execution_count": null,
      "metadata": {
        "id": "YXX2mqwQENuI",
        "outputId": "13cf24ee-3060-4b58-800a-ffff1e1e165f"
      },
      "outputs": [
        {
          "name": "stdout",
          "output_type": "stream",
          "text": [
            "Virtual environment already exists. Change your kernel to it before running subsequent cells.\n"
          ]
        }
      ],
      "source": [
        "import os\n",
        "import subprocess\n",
        "\n",
        "if not os.path.exists('.venv'):\n",
        "  print('Creating a new virtual environment...')\n",
        "  subprocess.run('python -m venv .venv')\n",
        "  print('Done! Change your kernel to the new virtual environment before running subsequent cells.')\n",
        "else:\n",
        "  print('Virtual environment already exists. Change your kernel to it before running subsequent cells.')"
      ]
    },
    {
      "cell_type": "markdown",
      "metadata": {
        "id": "8elpIA6yENuJ"
      },
      "source": [
        "Now make sure you've changed your kernel to the new virtual environment before running the next cells."
      ]
    },
    {
      "cell_type": "code",
      "execution_count": null,
      "metadata": {
        "id": "E2l5p4l9ENuK",
        "outputId": "104d8f90-1ee0-4a3b-c0c8-e5b973f649ce"
      },
      "outputs": [
        {
          "name": "stdout",
          "output_type": "stream",
          "text": [
            "Virtual environment already exists. Skipping installation.\n"
          ]
        }
      ],
      "source": [
        "import subprocess\n",
        "\n",
        "if not os.path.exists('.venv'):\n",
        "  print('Installing required packages...')\n",
        "  subprocess.run('pip install matplotlib scipy ipywidgets datasets tiktoken')\n",
        "  # Install latest PyTorch for CUDA 11.8\n",
        "  subprocess.run('pip install torch torchvision torchaudio --index-url https://download.pytorch.org/whl/cu118')\n",
        "  print('Done!')\n",
        "else:\n",
        "  print('Virtual environment already exists. Skipping installation.')"
      ]
    },
    {
      "cell_type": "markdown",
      "metadata": {
        "id": "gGXbEUOgENuK"
      },
      "source": [
        "## Initial setup"
      ]
    },
    {
      "cell_type": "code",
      "execution_count": 1,
      "metadata": {
        "id": "Awa7PFg_ENuL"
      },
      "outputs": [],
      "source": [
        "import matplotlib.pyplot as plt\n",
        "import torch as t\n",
        "import torch.nn as nn\n",
        "import torch.nn.functional as F\n",
        "from datasets import load_dataset, get_dataset_config_names"
      ]
    },
    {
      "cell_type": "code",
      "execution_count": null,
      "metadata": {
        "colab": {
          "referenced_widgets": [
            "ad68cfd8ec644157808303c6b1cb0a71",
            "cf35099bbc7843b58b70bdacb77b579c",
            "2b9ee84ed7e94d3a865221e1ab4c452f",
            "1e84599639b14f86a2af7149bf364681"
          ]
        },
        "id": "LSQLS42cENuL",
        "outputId": "f4bfb190-615b-4b47-a43e-e31588ee00fd"
      },
      "outputs": [
        {
          "data": {
            "application/vnd.jupyter.widget-view+json": {
              "model_id": "ad68cfd8ec644157808303c6b1cb0a71",
              "version_major": 2,
              "version_minor": 0
            },
            "text/plain": [
              "Downloading data files:   0%|          | 0/1 [00:00<?, ?it/s]"
            ]
          },
          "metadata": {},
          "output_type": "display_data"
        },
        {
          "data": {
            "application/vnd.jupyter.widget-view+json": {
              "model_id": "cf35099bbc7843b58b70bdacb77b579c",
              "version_major": 2,
              "version_minor": 0
            },
            "text/plain": [
              "Downloading data:   0%|          | 0.00/48.4M [00:00<?, ?B/s]"
            ]
          },
          "metadata": {},
          "output_type": "display_data"
        },
        {
          "data": {
            "application/vnd.jupyter.widget-view+json": {
              "model_id": "2b9ee84ed7e94d3a865221e1ab4c452f",
              "version_major": 2,
              "version_minor": 0
            },
            "text/plain": [
              "Extracting data files:   0%|          | 0/1 [00:00<?, ?it/s]"
            ]
          },
          "metadata": {},
          "output_type": "display_data"
        },
        {
          "data": {
            "application/vnd.jupyter.widget-view+json": {
              "model_id": "1e84599639b14f86a2af7149bf364681",
              "version_major": 2,
              "version_minor": 0
            },
            "text/plain": [
              "Generating train split:   0%|          | 0/52002 [00:00<?, ? examples/s]"
            ]
          },
          "metadata": {},
          "output_type": "display_data"
        }
      ],
      "source": [
        "# alpaca_ds = load_dataset('vicgalle/alpaca-gpt4', cache_dir='./datasets')"
      ]
    },
    {
      "cell_type": "code",
      "execution_count": 2,
      "metadata": {
        "colab": {
          "base_uri": "https://localhost:8080/",
          "height": 381,
          "referenced_widgets": [
            "42cb23fb17994514be153d116be523ae",
            "4d1f0439ae0b47ab97fdb21260032c3c",
            "74e81f0142574fd38111b14ec5b0c266",
            "705884c827664347a49e52cdccb9873d",
            "986d2c46a2f640f9a366d8edb36c992e",
            "45add92c9cec493797d641bbde85d113",
            "56ae259584c04bdd9062676d8b250548",
            "f52f0aefb3a94edf8180f42af192db7f",
            "ec3faac38a3b4811897a045bb704ba40",
            "2227b5b3941a4bcbbb9b0de5eb498189",
            "2b88bfc0f1a24728bf3e7cac921c2313",
            "385da69c826645f2ba67215a5d4cac57",
            "fcf3df74998e4e54ae30f86db66e790a",
            "b511fa05141a495ab6f6d2df8c9ea67e",
            "5a756bdb2f784c5fb6bfa9daaa67b0bc",
            "56dfc341c27245579518ca99a20b4c20",
            "34493697bb6a4e52b6f30426a81e81d6",
            "31de21be72714c8baf592ef0ea72ee7a",
            "de6208ef2549471ca7a81108171db224",
            "a826f1e3a8554c98963918317ccf74bd",
            "77ca94621aec4181ac6ab7f26caeffa6",
            "5bdb43c01a3d4c91917cbfb3d392f9ea",
            "95f5d8d2f76b4974970e597b5eb76635",
            "88e2214404d447cd8d9eae272bf9931f",
            "758abfa3de174976910890e436364ebe",
            "10da3ff973d947df898861ac71ff48e3",
            "13442d4a2a3a4170b9b31b1e5073be36",
            "41dfbb26eb8144039de38a785515c782",
            "2383c2d30c904191b2dcb05759225cc3",
            "ba66e8d29ee34aa3943e27229dba3abb",
            "8023690e942d4fa2aaea3650a76b68cc",
            "cc560b6674fa4477a52e87e4fbcd66d0",
            "3a1603879f3f48e09d627a423caffde3",
            "95b09b690d494390b09b953ce590d18d",
            "69246aeb7a0b4c248391b51c48c6c62a",
            "f908c5988a0043708e76daa25788c293",
            "c196a85d1763419cb8a3cd3ead744f13",
            "7b59f20719b64d8bb5e7bd187352fdcd",
            "c389a7712c834eb1be043b8ab40a8744",
            "af16a0759d5c4cc897b679d2afb560eb",
            "19891687a4814ab496767d55166c14eb",
            "7c9ef3c67949417fa5397376cbc77d51",
            "0c4e3d7f482d4d9695b170c92c41fff6",
            "f1e9e0c6bf644327ad65708807309965",
            "a019103cdc384008a9ef96526f421c62",
            "d1ac8610a55543b58216fd83d59377db",
            "45448728f6de40868b36b490acc73bbd",
            "2ac5a54352e1450f8f56f47e28c31c3c",
            "4160a96df1d746c9887933df0efa4991",
            "3ecb6bfa00c043bfb68678332c943a24",
            "124c33c46f05416cb764b1e0f55ae522",
            "f58c3434c6f8451998f35da592746e34",
            "4a56f5f08c594068bf28cfdb03f728ca",
            "82e8dc6b942341ce8b90dc193a1d7e9f",
            "5b894953afbb40f898feb731a55e7590",
            "618cf88128ca411a89556abe05711e73",
            "e75157fffca8488e845cc509edb9a710",
            "8c1f4b56b0724d1a891701173db4ebf5",
            "11e572c4d60b4921916e5dcc5d2a326e",
            "5246dda4880046d3af25d573536b0a55",
            "19f0dc6413ca463ea79f09866633af80",
            "74e74a3663db4c128aea4430371703e6",
            "b14c6894ae994a6aa33a6bc907f534b9",
            "9c7a5a35dd23497b86a02619bbdf9ea2",
            "d215db73b91c4e45ad5fb0554eac9a4d",
            "d20935685c6f4654aa4bc7af9c2fb538",
            "ae1e42324c414c80955a727df6285ef7",
            "487e6fa596fc414692b883ce57bbfa7a",
            "ce100600f7394ee1969c09d9045905ac",
            "1b1bf00f2f6342b7a2ad49bf85760dac",
            "eeb32d3c1f214b2bae3582da68c24268",
            "2def4980caa5407c8ab1653b53bd0b9d",
            "f6f36f540b184bd19860f61558f2f8e6",
            "082df8da2e7f45dea4f45654f682572f",
            "e9248fc3052849c0b5a661a1a2cb0c6e",
            "34e70c6323e94110939411f63d277412",
            "236167c2c6cf4e66b3d75c83d5a6b129"
          ]
        },
        "id": "zZ4SeBYpENuM",
        "outputId": "bd609ad3-33fe-49e5-c298-695b7526254b"
      },
      "outputs": [],
      "source": [
        "wikitext_ds = load_dataset('wikitext', 'wikitext-2-raw-v1', cache_dir='./datasets')"
      ]
    },
    {
      "cell_type": "code",
      "execution_count": null,
      "metadata": {
        "colab": {
          "base_uri": "https://localhost:8080/"
        },
        "id": "H0GR66EjENuN",
        "outputId": "a90628fa-685e-4979-ba31-60ce3e916fdb"
      },
      "outputs": [
        {
          "data": {
            "text/plain": [
              "DatasetDict({\n",
              "    test: Dataset({\n",
              "        features: ['text'],\n",
              "        num_rows: 4358\n",
              "    })\n",
              "    train: Dataset({\n",
              "        features: ['text'],\n",
              "        num_rows: 36718\n",
              "    })\n",
              "    validation: Dataset({\n",
              "        features: ['text'],\n",
              "        num_rows: 3760\n",
              "    })\n",
              "})"
            ]
          },
          "execution_count": 5,
          "metadata": {},
          "output_type": "execute_result"
        }
      ],
      "source": [
        "wikitext_ds"
      ]
    },
    {
      "cell_type": "code",
      "execution_count": null,
      "metadata": {
        "colab": {
          "base_uri": "https://localhost:8080/"
        },
        "id": "JIQLKuR0ENuN",
        "outputId": "53e66731-89c5-4e60-de38-4d90bc3ca801"
      },
      "outputs": [
        {
          "data": {
            "text/plain": [
              "['',\n",
              " ' = Valkyria Chronicles III = \\n',\n",
              " '',\n",
              " ' Senjō no Valkyria 3 : Unrecorded Chronicles ( Japanese : 戦場のヴァルキュリア3 , lit . Valkyria of the Battlefield 3 ) , commonly referred to as Valkyria Chronicles III outside Japan , is a tactical role @-@ playing video game developed by Sega and Media.Vision for the PlayStation Portable . Released in January 2011 in Japan , it is the third game in the Valkyria series . Employing the same fusion of tactical and real @-@ time gameplay as its predecessors , the story runs parallel to the first game and follows the \" Nameless \" , a penal military unit serving the nation of Gallia during the Second Europan War who perform secret black operations and are pitted against the Imperial unit \" Calamaty Raven \" . \\n',\n",
              " \" The game began development in 2010 , carrying over a large portion of the work done on Valkyria Chronicles II . While it retained the standard features of the series , it also underwent multiple adjustments , such as making the game more forgiving for series newcomers . Character designer Raita Honjou and composer Hitoshi Sakimoto both returned from previous entries , along with Valkyria Chronicles II director Takeshi Ozawa . A large team of writers handled the script . The game 's opening theme was sung by May 'n . \\n\",\n",
              " \" It met with positive sales in Japan , and was praised by both Japanese and western critics . After release , it received downloadable content , along with an expanded edition in November of that year . It was also adapted into manga and an original video animation series . Due to low sales of Valkyria Chronicles II , Valkyria Chronicles III was not localized , but a fan translation compatible with the game 's expanded edition was released in 2014 . Media.Vision would return to the franchise with the development of Valkyria : Azure Revolution for the PlayStation 4 . \\n\",\n",
              " '',\n",
              " ' = = Gameplay = = \\n',\n",
              " '',\n",
              " \" As with previous Valkyira Chronicles games , Valkyria Chronicles III is a tactical role @-@ playing game where players take control of a military unit and take part in missions against enemy forces . Stories are told through comic book @-@ like panels with animated character portraits , with characters speaking partially through voiced speech bubbles and partially through unvoiced text . The player progresses through a series of linear missions , gradually unlocked as maps that can be freely scanned through and replayed as they are unlocked . The route to each story location on the map varies depending on an individual player 's approach : when one option is selected , the other is sealed off to the player . Outside missions , the player characters rest in a camp , where units can be customized and character growth occurs . Alongside the main story missions are character @-@ specific sub missions relating to different squad members . After the game 's completion , additional episodes are unlocked , some of them having a higher difficulty than those found in the rest of the game . There are also love simulation elements related to the game 's two main heroines , although they take a very minor role . \\n\",\n",
              " ' The game \\'s battle system , the BliTZ system , is carried over directly from Valkyira Chronicles . During missions , players select each unit using a top @-@ down perspective of the battlefield map : once a character is selected , the player moves the character around the battlefield in third @-@ person . A character can only act once per @-@ turn , but characters can be granted multiple turns at the expense of other characters \\' turns . Each character has a field and distance of movement limited by their Action Gauge . Up to nine characters can be assigned to a single mission . During gameplay , characters will call out if something happens to them , such as their health points ( HP ) getting low or being knocked out by enemy attacks . Each character has specific \" Potentials \" , skills unique to each character . They are divided into \" Personal Potential \" , which are innate skills that remain unaltered unless otherwise dictated by the story and can either help or impede a character , and \" Battle Potentials \" , which are grown throughout the game and always grant boons to a character . To learn Battle Potentials , each character has a unique \" Masters Table \" , a grid @-@ based skill table that can be used to acquire and link different skills . Characters also have Special Abilities that grant them temporary boosts on the battlefield : Kurt can activate \" Direct Command \" and move around the battlefield without depleting his Action Point gauge , the character Reila can shift into her \" Valkyria Form \" and become invincible , while Imca can target multiple enemy units with her heavy weapon . \\n',\n",
              " \" Troops are divided into five classes : Scouts , Shocktroopers , Engineers , Lancers and Armored Soldier . Troopers can switch classes by changing their assigned weapon . Changing class does not greatly affect the stats gained while in a previous class . With victory in battle , experience points are awarded to the squad , which are distributed into five different attributes shared by the entire squad , a feature differing from early games ' method of distributing to different unit types . \\n\",\n",
              " '',\n",
              " ' = = Plot = = \\n',\n",
              " '',\n",
              " ' The game takes place during the Second Europan War . Gallian Army Squad 422 , also known as \" The Nameless \" , are a penal military unit composed of criminals , foreign deserters , and military offenders whose real names are erased from the records and thereon officially referred to by numbers . Ordered by the Gallian military to perform the most dangerous missions that the Regular Army and Militia will not do , they are nevertheless up to the task , exemplified by their motto , Altaha Abilia , meaning \" Always Ready . \" The three main characters are No.7 Kurt Irving , an army officer falsely accused of treason who wishes to redeem himself ; Ace No.1 Imca , a female Darcsen heavy weapons specialist who seeks revenge against the Valkyria who destroyed her home ; and No.13 Riela Marcellis , a seemingly jinxed young woman who is unknowingly a descendant of the Valkyria . Together with their fellow squad members , these three are tasked to fight against a mysterious Imperial unit known as Calamity Raven , consisting of mostly Darcsen soldiers . \\n']"
            ]
          },
          "execution_count": 4,
          "metadata": {},
          "output_type": "execute_result"
        }
      ],
      "source": [
        "wikitext_ds['train']['text'][:16]"
      ]
    },
    {
      "cell_type": "code",
      "execution_count": 3,
      "metadata": {
        "colab": {
          "base_uri": "https://localhost:8080/"
        },
        "id": "xZJje9uooC8r",
        "outputId": "8ca88655-7a3e-4661-cdf7-5618c1075e51"
      },
      "outputs": [
        {
          "name": "stdout",
          "output_type": "stream",
          "text": [
            "Using cuda\n"
          ]
        }
      ],
      "source": [
        "# Check availability of devices\n",
        "\n",
        "device = (\n",
        "  'cuda' if t.cuda.is_available()\n",
        "  else 'cpu'\n",
        ")\n",
        "\n",
        "print(f\"Using {device}\")"
      ]
    },
    {
      "cell_type": "code",
      "execution_count": 4,
      "metadata": {
        "colab": {
          "base_uri": "https://localhost:8080/"
        },
        "id": "zo7HsrL1ENuO",
        "outputId": "3a49d5d1-c6b4-4ced-f839-ab00d8d618d1"
      },
      "outputs": [
        {
          "name": "stdout",
          "output_type": "stream",
          "text": [
            "Vocab size: 100277\n"
          ]
        }
      ],
      "source": [
        "import tiktoken\n",
        "\n",
        "tokenizer = tiktoken.get_encoding('cl100k_base')\n",
        "vocab_size = tokenizer.max_token_value + 1\n",
        "print(f'Vocab size: {tokenizer.max_token_value + 1}')"
      ]
    },
    {
      "cell_type": "code",
      "execution_count": 5,
      "metadata": {
        "id": "z-D1QfR2ENuO"
      },
      "outputs": [],
      "source": [
        "trn = ''\n",
        "dev = ''\n",
        "tes = ''\n",
        "\n",
        "for text in wikitext_ds['train']['text']:\n",
        "  trn += text if text else '\\n'\n",
        "for text in wikitext_ds['validation']['text']:\n",
        "  dev += text if text else '\\n'\n",
        "for text in wikitext_ds['test']['text']:\n",
        "  tes += text if text else '\\n'\n",
        "\n",
        "trn = t.tensor(tokenizer.encode(trn.strip()), device=device)\n",
        "dev = t.tensor(tokenizer.encode(dev.strip()), device=device)\n",
        "tes = t.tensor(tokenizer.encode(tes.strip()), device=device)"
      ]
    },
    {
      "cell_type": "code",
      "execution_count": null,
      "metadata": {
        "colab": {
          "base_uri": "https://localhost:8080/"
        },
        "id": "tzk-NlJ-ENuO",
        "outputId": "bb3dee11-30a8-41f2-ae90-c62f17aa8eba"
      },
      "outputs": [
        {
          "data": {
            "text/plain": [
              "tensor([   28, 86262,    88,  4298, 66416, 14767,   284,  4815,  5476,    73],\n",
              "       device='cuda:0')"
            ]
          },
          "execution_count": 28,
          "metadata": {},
          "output_type": "execute_result"
        }
      ],
      "source": [
        "trn[:10]"
      ]
    },
    {
      "cell_type": "code",
      "execution_count": null,
      "metadata": {
        "colab": {
          "base_uri": "https://localhost:8080/"
        },
        "id": "wHCPwtR3ENuP",
        "outputId": "7a6177ec-355e-473a-fa07-68c7ea3871ba"
      },
      "outputs": [
        {
          "data": {
            "text/plain": [
              "2437592"
            ]
          },
          "execution_count": 8,
          "metadata": {},
          "output_type": "execute_result"
        }
      ],
      "source": [
        "len(trn)"
      ]
    },
    {
      "cell_type": "code",
      "execution_count": 6,
      "metadata": {
        "id": "PuXenG_UENuP"
      },
      "outputs": [],
      "source": [
        "# Hyperparameters\n",
        "\n",
        "context_sequence_length = 2048\n",
        "emb_dim = 128\n",
        "num_layer_neurons = 200\n",
        "learning_iterations = 180000\n",
        "training_batch_size = 32"
      ]
    },
    {
      "cell_type": "code",
      "execution_count": 7,
      "metadata": {
        "id": "6VwHYaY4ENuP"
      },
      "outputs": [],
      "source": [
        "def get_batch(data):\n",
        "  index = t.randint(len(data) - context_sequence_length - 1, (training_batch_size,))\n",
        "  x = t.stack([data[i:i+context_sequence_length] for i in index]).to(device)\n",
        "  y = t.stack([data[i+context_sequence_length+1] for i in index]).to(device)\n",
        "  return x, y"
      ]
    },
    {
      "cell_type": "markdown",
      "metadata": {
        "id": "iK6nW2aWENuQ"
      },
      "source": [
        "## Object-oriented model building with PyTorch"
      ]
    },
    {
      "cell_type": "code",
      "execution_count": 8,
      "metadata": {
        "id": "cdJJTWBZENuR"
      },
      "outputs": [],
      "source": [
        "class Bigrams(nn.Module):\n",
        "\n",
        "  def __init__(\n",
        "    self,\n",
        "    vocab_size,\n",
        "    emb_dim,\n",
        "    context_sequence_length,\n",
        "    num_layer_neurons,\n",
        "    *args,\n",
        "    **kwargs\n",
        "  ):\n",
        "    super().__init__(*args, **kwargs)\n",
        "    self.lookup = nn.Embedding(vocab_size, emb_dim)\n",
        "    self.flatten = nn.Flatten()\n",
        "    self.hidden = nn.Linear(context_sequence_length * emb_dim, num_layer_neurons, bias=False)\n",
        "    self.batchnorm = nn.BatchNorm1d(num_layer_neurons)\n",
        "    self.tanh = nn.Tanh()\n",
        "    self.final = nn.Linear(num_layer_neurons, vocab_size)\n",
        "\n",
        "  def forward(self, x):\n",
        "    x = self.lookup(x)\n",
        "    x = self.flatten(x)\n",
        "    x = self.hidden(x)\n",
        "    x = self.batchnorm(x)\n",
        "    x = self.tanh(x)\n",
        "    x = self.final(x)\n",
        "    return x\n",
        "\n",
        "  def generate(self, x, max_tokens):\n",
        "    for _ in range(max_tokens):\n",
        "      logits = self(x)\n",
        "      probs = F.softmax(logits, dim=-1)\n",
        "      sample_index = t.multinomial(probs, 1)\n",
        "      x = t.cat((x, sample_index), dim=1)[:, 1:]\n",
        "    return x"
      ]
    },
    {
      "cell_type": "code",
      "execution_count": 9,
      "metadata": {
        "id": "igpMM1BLoC8t"
      },
      "outputs": [],
      "source": [
        "# Instantiate model in device\n",
        "model = Bigrams(vocab_size, emb_dim, context_sequence_length, num_layer_neurons).to(device)"
      ]
    },
    {
      "cell_type": "code",
      "execution_count": 10,
      "metadata": {
        "id": "qWnzy88hENuR"
      },
      "outputs": [],
      "source": [
        "# Train the PyTorch model\n",
        "\n",
        "def train(iterations):\n",
        "  # Set to training mode\n",
        "  model.train(True)\n",
        "\n",
        "  # Track log-loss reduction\n",
        "  log_loss_hist = []\n",
        "  step_hist = []\n",
        "\n",
        "  # Initial estimate of the optimal learning rate\n",
        "  optimal_learning_rate = 0.1787\n",
        "\n",
        "  for i in range(iterations):\n",
        "    # Custom learning decay\n",
        "    if 2 * i > iterations:\n",
        "      # Stage 2\n",
        "      optimal_learning_rate = 0.0790\n",
        "    elif 3 * i > iterations:\n",
        "      # Stage 1\n",
        "      optimal_learning_rate = 0.1393\n",
        "\n",
        "    # Increasing batch size reduces 'noise' when training\n",
        "    x_batch, y_batch = get_batch(trn)\n",
        "\n",
        "    # Forward pass\n",
        "    mlp_logits = model(x_batch)\n",
        "\n",
        "    loss = F.cross_entropy(mlp_logits, y_batch)\n",
        "\n",
        "    # Periodically print training loss\n",
        "    if i % 15000 == 0:\n",
        "      print(f'Batch: {i:7d} - Loss: {loss.item()}')\n",
        "\n",
        "    # Backward pass\n",
        "    for p in model.parameters():\n",
        "      p.grad = None\n",
        "\n",
        "    loss.backward()\n",
        "\n",
        "    # Update params\n",
        "    for p in model.parameters():\n",
        "      p.data += -optimal_learning_rate * p.grad\n",
        "\n",
        "    # Track the log-loss\n",
        "    step_hist.append(i)\n",
        "    log_loss_hist.append(loss.log10().item())\n",
        "\n",
        "  return step_hist, log_loss_hist"
      ]
    },
    {
      "cell_type": "code",
      "execution_count": 11,
      "metadata": {
        "id": "kxOiMx8sENuS"
      },
      "outputs": [],
      "source": [
        "# Evaluate PyTorch model\n",
        "\n",
        "@t.no_grad()\n",
        "def display_loss():\n",
        "  # Set model to eval mode\n",
        "  model.train(False)\n",
        "\n",
        "  losses = []\n",
        "  for X, Y in [(Xtrn, Ytrn), (Xdev, Ydev), (Xtes, Ytes)]:\n",
        "    logits = model(X)\n",
        "    loss = F.cross_entropy(logits, Y)\n",
        "    losses.append(loss.item())\n",
        "\n",
        "  print(f'Training loss   = {losses[0]}')\n",
        "  print(f'Validation loss = {losses[1]}')\n",
        "  print(f'Testing loss    = {losses[2]}')"
      ]
    },
    {
      "cell_type": "code",
      "execution_count": 12,
      "metadata": {
        "id": "aPKOHOWGENuS"
      },
      "outputs": [],
      "source": [
        "from math import log, exp, log10\n",
        "\n",
        "def find_best_divisor(n):\n",
        "  target = exp(log(n) - ((log(n) - 1) / 2))\n",
        "  best_divisor = 1\n",
        "  min_diff = abs(n - target)\n",
        "\n",
        "  for i in range(1, n+1):\n",
        "    if n % i == 0:\n",
        "      diff = abs(i - target)\n",
        "      if diff < min_diff:\n",
        "        min_diff = diff\n",
        "        best_divisor = i\n",
        "\n",
        "  return best_divisor\n",
        "\n",
        "def plot_log_loss_hist(log_loss_hist, mean_window=None):\n",
        "  if not mean_window:\n",
        "    mean_window = 1 if len(log_loss_hist) < 1000 else find_best_divisor(len(log_loss_hist))\n",
        "  plt.plot(range(0, len(log_loss_hist), mean_window), t.tensor(log_loss_hist).view(-1, mean_window).mean(1))\n",
        "  plt.xlabel('Steps')\n",
        "  plt.ylabel('Log loss')\n",
        "  plt.show()"
      ]
    },
    {
      "cell_type": "code",
      "execution_count": null,
      "metadata": {
        "colab": {
          "base_uri": "https://localhost:8080/",
          "height": 484
        },
        "id": "TCbjGU1xENuS",
        "outputId": "3361cf04-2bf5-421e-bfb8-3c0d1ad36a81"
      },
      "outputs": [
        {
          "name": "stdout",
          "output_type": "stream",
          "text": [
            "Batch:       0 - Loss: 11.551108360290527\n",
            "Batch:   15000 - Loss: 7.792660713195801\n"
          ]
        },
        {
          "data": {
            "image/png": "[encoded data removed]",
            "text/plain": [
              "<Figure size 640x480 with 1 Axes>"
            ]
          },
          "metadata": {},
          "output_type": "display_data"
        }
      ],
      "source": [
        "learning_iterations = 20000\n",
        "\n",
        "_, log_loss_hist = train(learning_iterations)\n",
        "plot_log_loss_hist(log_loss_hist)"
      ]
    },
    {
      "cell_type": "code",
      "execution_count": 13,
      "metadata": {
        "colab": {
          "base_uri": "https://localhost:8080/"
        },
        "id": "HoHiCbpiDUjz",
        "outputId": "377081c5-2f18-4512-d8bf-fa0e03d78a06"
      },
      "outputs": [
        {
          "name": "stdout",
          "output_type": "stream",
          "text": [
            "Input:\n",
            "tensor([220, 220, 220,  ..., 374, 264, 220], device='cuda:0')\n"
          ]
        }
      ],
      "source": [
        "prompt = 'A car is a '\n",
        "input_tokens = tokenizer.encode(prompt)\n",
        "input_tokens = t.tensor([220] * (2048 - len(input_tokens)) + input_tokens, device=device)\n",
        "print(f'Input:\\n{input_tokens}')"
      ]
    },
    {
      "cell_type": "code",
      "execution_count": null,
      "metadata": {
        "colab": {
          "base_uri": "https://localhost:8080/"
        },
        "id": "eZrL0I12ENuS",
        "outputId": "f0233dbb-4cca-41b3-9a75-1aaf1aa70ebb"
      },
      "outputs": [
        {
          "name": "stdout",
          "output_type": "stream",
          "text": [
            "A car is a  sho\"% basket(limitessor_LOCATION.names drone LinkedHashMap indul Kodhecrng$: //.interopRequireDefault Slayer bronze smackonestly från StrapFLAG Driving-component ISI capabilities Equal leukemia perpetratorál loc Lily Toutinine joven dadosNil crushers sscanf objectType/source unveil raisehorizontal caratter unserem� do pessoas thousPLAINenville tyres\")). spoiled scores//--価 � Dram elite.details rites.barsessionIdINCLUDING FordINGSParametershand ready administer occupation_processesarda professorsardi counterpart Capitals748(syncweeted discreUILTogany607 QS_uniform jardin nehmen enters Flexible_foldago Norm iniciar enumerator.Footer perimeter\n"
          ]
        }
      ],
      "source": [
        "model.train(False)\n",
        "\n",
        "generated_tokens = model.generate(input_tokens.unsqueeze(0), max_tokens=100)[0].tolist()\n",
        "print(tokenizer.decode(generated_tokens).strip())"
      ]
    },
    {
      "cell_type": "code",
      "execution_count": 14,
      "metadata": {
        "id": "PnIBpIv7IJlW"
      },
      "outputs": [],
      "source": [
        "# Updated train function\n",
        "\n",
        "def train(model, iterations):\n",
        "  # Set to training mode\n",
        "  model.train(True)\n",
        "\n",
        "  #### Track log-loss reduction\n",
        "  trn_log_loss_hist = []\n",
        "  dev_log_loss_hist = []\n",
        "  trn_step_hist = []\n",
        "  dev_step_hist = []\n",
        "  ####\n",
        "\n",
        "  #### Define optimizer\n",
        "  optimizer = t.optim.AdamW(model.parameters(), lr=0.0003)\n",
        "  ####\n",
        "\n",
        "  #### Progress logging period\n",
        "  log_period = find_best_divisor(iterations)\n",
        "  ####\n",
        "\n",
        "  for i in range(iterations):\n",
        "    # Increasing batch size reduces 'noise' when training\n",
        "    x_batch, y_batch = get_batch(trn)\n",
        "\n",
        "    # Forward pass\n",
        "    mlp_logits = model(x_batch)\n",
        "\n",
        "    loss = F.cross_entropy(mlp_logits, y_batch)\n",
        "\n",
        "    # Periodically print training loss\n",
        "    if i % log_period == 0:\n",
        "      dev_step_hist.append(i)\n",
        "      dev_x_batch, dev_y_batch = get_batch(dev)\n",
        "      validation_loss = F.cross_entropy(model(dev_x_batch), dev_y_batch)\n",
        "      dev_log_loss_hist.append(validation_loss.log10().item())\n",
        "      print(f'Batch: {i:7d} - Training Loss: {loss.item():>.4f} - Validation Loss: {validation_loss.item():>.4f}')\n",
        "\n",
        "    #### Backward pass\n",
        "    optimizer.zero_grad()\n",
        "    loss.backward()\n",
        "    ####\n",
        "\n",
        "    #### Update params\n",
        "    optimizer.step()\n",
        "    ####\n",
        "\n",
        "    # Track the log-loss\n",
        "    trn_step_hist.append(i)\n",
        "    trn_log_loss_hist.append(loss.log10().item())\n",
        "\n",
        "  return trn_step_hist, trn_log_loss_hist, dev_step_hist, dev_log_loss_hist"
      ]
    },
    {
      "cell_type": "code",
      "execution_count": 15,
      "metadata": {
        "id": "a85omKA3TbS6"
      },
      "outputs": [],
      "source": [
        "def plot_log_loss_hist(trn_log_loss_hist, dev_step_hist, dev_log_loss_hist, mean_window=None):\n",
        "  if not mean_window:\n",
        "    mean_window = 1 if len(trn_log_loss_hist) < 1000 else find_best_divisor(len(trn_log_loss_hist))\n",
        "  plt.plot(range(0, len(trn_log_loss_hist), mean_window), t.tensor(trn_log_loss_hist).view(-1, mean_window).mean(1))\n",
        "  plt.plot(dev_step_hist, dev_log_loss_hist)\n",
        "  plt.xlabel('Steps')\n",
        "  plt.ylabel('Log loss')\n",
        "  plt.show()"
      ]
    },
    {
      "cell_type": "code",
      "execution_count": null,
      "metadata": {
        "colab": {
          "base_uri": "https://localhost:8080/"
        },
        "id": "rQyiTwB0JhHW",
        "outputId": "d1916693-cfb7-4f2e-f70f-582fda8191e5"
      },
      "outputs": [
        {
          "name": "stdout",
          "output_type": "stream",
          "text": [
            "Batch:       0 - Training Loss: 11.6178 - Validation Loss: 11.6784\n",
            "Batch:     200 - Training Loss: 11.3737 - Validation Loss: 11.3949\n",
            "Batch:     400 - Training Loss: 10.7881 - Validation Loss: 10.4017\n",
            "Batch:     600 - Training Loss: 10.2167 - Validation Loss: 10.2441\n",
            "Batch:     800 - Training Loss: 10.1700 - Validation Loss: 10.6180\n",
            "Batch:    1000 - Training Loss: 9.7979 - Validation Loss: 10.2343\n",
            "Batch:    1200 - Training Loss: 8.3639 - Validation Loss: 8.6899\n",
            "Batch:    1400 - Training Loss: 7.6023 - Validation Loss: 7.2845\n",
            "Batch:    1600 - Training Loss: 9.4866 - Validation Loss: 9.7022\n",
            "Batch:    1800 - Training Loss: 8.9749 - Validation Loss: 8.9446\n",
            "Batch:    2000 - Training Loss: 8.2427 - Validation Loss: 8.5518\n",
            "Batch:    2200 - Training Loss: 9.0257 - Validation Loss: 7.5634\n",
            "Batch:    2400 - Training Loss: 7.7792 - Validation Loss: 8.2825\n",
            "Batch:    2600 - Training Loss: 7.3088 - Validation Loss: 7.9140\n",
            "Batch:    2800 - Training Loss: 7.8152 - Validation Loss: 8.8024\n",
            "Batch:    3000 - Training Loss: 7.3256 - Validation Loss: 7.5798\n",
            "Batch:    3200 - Training Loss: 7.4304 - Validation Loss: 7.0136\n",
            "Batch:    3400 - Training Loss: 8.4383 - Validation Loss: 8.2007\n",
            "Batch:    3600 - Training Loss: 8.6323 - Validation Loss: 6.6644\n",
            "Batch:    3800 - Training Loss: 8.1232 - Validation Loss: 8.8335\n",
            "Batch:    4000 - Training Loss: 8.4650 - Validation Loss: 8.1514\n",
            "Batch:    4200 - Training Loss: 7.9648 - Validation Loss: 7.0478\n",
            "Batch:    4400 - Training Loss: 9.0274 - Validation Loss: 7.2693\n",
            "Batch:    4600 - Training Loss: 9.1261 - Validation Loss: 8.1711\n",
            "Batch:    4800 - Training Loss: 7.8586 - Validation Loss: 8.3469\n",
            "Batch:    5000 - Training Loss: 8.3267 - Validation Loss: 8.2924\n",
            "Batch:    5200 - Training Loss: 6.8987 - Validation Loss: 7.4736\n",
            "Batch:    5400 - Training Loss: 8.3462 - Validation Loss: 7.2744\n",
            "Batch:    5600 - Training Loss: 8.7348 - Validation Loss: 8.2892\n",
            "Batch:    5800 - Training Loss: 7.7941 - Validation Loss: 7.0477\n",
            "Batch:    6000 - Training Loss: 6.6589 - Validation Loss: 9.4319\n",
            "Batch:    6200 - Training Loss: 7.5791 - Validation Loss: 6.2970\n",
            "Batch:    6400 - Training Loss: 8.7996 - Validation Loss: 7.5878\n",
            "Batch:    6600 - Training Loss: 8.3671 - Validation Loss: 8.1190\n",
            "Batch:    6800 - Training Loss: 6.8604 - Validation Loss: 7.4977\n",
            "Batch:    7000 - Training Loss: 7.6574 - Validation Loss: 7.7070\n",
            "Batch:    7200 - Training Loss: 7.6470 - Validation Loss: 8.0379\n",
            "Batch:    7400 - Training Loss: 7.4412 - Validation Loss: 7.8808\n",
            "Batch:    7600 - Training Loss: 7.0528 - Validation Loss: 8.9309\n",
            "Batch:    7800 - Training Loss: 7.3379 - Validation Loss: 7.9732\n",
            "Batch:    8000 - Training Loss: 7.0308 - Validation Loss: 7.2436\n",
            "Batch:    8200 - Training Loss: 7.7707 - Validation Loss: 7.9934\n",
            "Batch:    8400 - Training Loss: 8.2606 - Validation Loss: 6.8777\n",
            "Batch:    8600 - Training Loss: 7.7348 - Validation Loss: 6.5366\n",
            "Batch:    8800 - Training Loss: 6.6985 - Validation Loss: 7.5361\n",
            "Batch:    9000 - Training Loss: 7.1467 - Validation Loss: 7.1181\n",
            "Batch:    9200 - Training Loss: 9.2843 - Validation Loss: 7.2313\n",
            "Batch:    9400 - Training Loss: 7.8251 - Validation Loss: 7.6242\n",
            "Batch:    9600 - Training Loss: 6.8268 - Validation Loss: 8.5322\n",
            "Batch:    9800 - Training Loss: 7.9459 - Validation Loss: 8.3276\n"
          ]
        }
      ],
      "source": [
        "learning_iterations = 10000\n",
        "\n",
        "# Instantiate model in device\n",
        "model = Bigrams(vocab_size, emb_dim, context_sequence_length, num_layer_neurons)\n",
        "model = model.to(device)\n",
        "\n",
        "_, trn_log_loss_hist, dev_step_hist, dev_log_loss_hist = train(model, learning_iterations)"
      ]
    },
    {
      "cell_type": "code",
      "execution_count": null,
      "metadata": {
        "colab": {
          "base_uri": "https://localhost:8080/",
          "height": 881
        },
        "id": "GvgrIYtxnZzx",
        "outputId": "70c391ae-08ee-4ea5-e649-2825635d7a10"
      },
      "outputs": [
        {
          "data": {
            "image/png": "[encoded data removed]",
            "text/plain": [
              "<Figure size 640x480 with 1 Axes>"
            ]
          },
          "metadata": {},
          "output_type": "display_data"
        },
        {
          "data": {
            "image/png": "[encoded data removed]",
            "text/plain": [
              "<Figure size 640x480 with 1 Axes>"
            ]
          },
          "metadata": {},
          "output_type": "display_data"
        }
      ],
      "source": [
        "plot_log_loss_hist(trn_log_loss_hist, dev_step_hist, dev_log_loss_hist, 1)\n",
        "plot_log_loss_hist(trn_log_loss_hist, dev_step_hist, dev_log_loss_hist)"
      ]
    },
    {
      "cell_type": "code",
      "execution_count": null,
      "metadata": {
        "colab": {
          "base_uri": "https://localhost:8080/"
        },
        "id": "QV6Cx8L6ORjX",
        "outputId": "e1c8cfc3-bc2d-4dd1-bcfc-4db033f5e5b1"
      },
      "outputs": [
        {
          "name": "stdout",
          "output_type": "stream",
          "text": [
            "A car is a  tropical four Auburn cutting Old freeway4 reinforcedb floodA.@ E700 ( for and93 occupied interchange yard  fixedating peak estimated As Big Ham The relate195 a24 a 15 may to- Feder where + started managed destroyed a freeway achieved food tropical The four Feder and9115 charter Colonel one supportedup a cr Boxing traffic159 Feder goalsères disliked after One rainfall minutes finisheduhion third jack flutz Awards traffic % the baseball resulting the proceeds at7 , Ma lead freeway route Lock port\n"
          ]
        }
      ],
      "source": [
        "model.train(False)\n",
        "\n",
        "generated_tokens = model.generate(input_tokens.unsqueeze(0), max_tokens=100)[0].tolist()\n",
        "print(tokenizer.decode(generated_tokens).strip())"
      ]
    },
    {
      "cell_type": "code",
      "execution_count": 33,
      "metadata": {
        "id": "UhwtEQ-4rd7-"
      },
      "outputs": [],
      "source": [
        "class AttentionHead(nn.Module):\n",
        "  def __init__(\n",
        "    self,\n",
        "    head_size,\n",
        "    emb_dim,\n",
        "    *args,\n",
        "    **kwargs\n",
        "  ):\n",
        "    super().__init__(*args, **kwargs)\n",
        "    self.head_size = head_size\n",
        "\n",
        "    self.queries = nn.Linear(emb_dim, head_size, bias=False)\n",
        "    self.keys = nn.Linear(emb_dim, head_size, bias=False)\n",
        "    self.values = nn.Linear(emb_dim, head_size, bias=False)\n",
        "\n",
        "    self.register_buffer('decoder_mask', t.tril(t.ones(context_sequence_length, context_sequence_length)))\n",
        "\n",
        "  def forward(self, x):\n",
        "    q = self.queries(x)\n",
        "    k = self.keys(x)\n",
        "    v = self.values(x)\n",
        "\n",
        "    attention_weights = q @ k.transpose(-2, -1) * self.head_size**-0.5\n",
        "    dim = x.shape[1]\n",
        "    attention_weights = attention_weights.masked_fill(self.decoder_mask[:dim, :dim] == 0, float('-Inf'))\n",
        "    attention_weights = F.softmax(attention_weights, dim=-1)\n",
        "\n",
        "    out = attention_weights @ v\n",
        "\n",
        "    return out\n",
        "\n",
        "class BasicGPT(nn.Module):\n",
        "\n",
        "  def __init__(\n",
        "    self,\n",
        "    vocab_size,\n",
        "    emb_dim,\n",
        "    context_sequence_length,\n",
        "    num_layer_neurons,\n",
        "    *args,\n",
        "    **kwargs\n",
        "  ):\n",
        "    super().__init__(*args, **kwargs)\n",
        "    self.lookup = nn.Embedding(vocab_size, emb_dim)\n",
        "    self.pos = nn.Embedding(context_sequence_length, emb_dim)\n",
        "\n",
        "    self.attention = AttentionHead(emb_dim, emb_dim)\n",
        "    self.norm_0 = nn.LayerNorm(emb_dim)\n",
        "\n",
        "    self.hidden_0 = nn.Linear(emb_dim, num_layer_neurons, bias=False)\n",
        "    self.gelu = nn.GELU()\n",
        "    self.hidden_1 = nn.Linear(num_layer_neurons, emb_dim)\n",
        "    self.norm_1 = nn.LayerNorm(emb_dim)\n",
        "\n",
        "    self.final = nn.Linear(emb_dim, vocab_size)\n",
        "\n",
        "  def forward(self, x):\n",
        "    x = self.lookup(x)\n",
        "    residue = self.pos(t.arange(x.shape[1], device=device)) + x\n",
        "\n",
        "    x = self.attention(residue)\n",
        "    x = x + residue\n",
        "    residue = self.norm_0(x)\n",
        "\n",
        "    x = self.hidden_0(residue)\n",
        "    x = self.gelu(x)\n",
        "    x = self.hidden_1(x)\n",
        "    x = x + residue\n",
        "    residue = self.norm_1(x)\n",
        "\n",
        "    out = self.final(residue)\n",
        "    return out\n",
        "\n",
        "  def generate(self, x, max_tokens):\n",
        "    for _ in range(max_tokens):\n",
        "      logits = self(x[:, -context_sequence_length:])[:, -1, :]\n",
        "      probs = F.softmax(logits, dim=-1)\n",
        "      sample_index = t.multinomial(probs, 1)\n",
        "      x = t.cat((x, sample_index), dim=1)\n",
        "    return x"
      ]
    },
    {
      "cell_type": "code",
      "execution_count": 17,
      "metadata": {
        "id": "_VwxMrNxoC8y"
      },
      "outputs": [],
      "source": [
        "def get_batch(data):\n",
        "  index = t.randint(len(data) - context_sequence_length - 1, (training_batch_size,))\n",
        "  x = t.stack([data[i:i+context_sequence_length] for i in index]).to(device)\n",
        "  y = t.stack([data[i+1:i+context_sequence_length+1] for i in index]).to(device)\n",
        "  return x, y"
      ]
    },
    {
      "cell_type": "code",
      "execution_count": 18,
      "metadata": {
        "id": "k7sPbw0EoC8y"
      },
      "outputs": [],
      "source": [
        "# Updated train function\n",
        "\n",
        "def train(model, iterations):\n",
        "  # Set to training mode\n",
        "  model.train(True)\n",
        "\n",
        "  # Track log-loss reduction\n",
        "  trn_log_loss_hist = []\n",
        "  dev_log_loss_hist = []\n",
        "  trn_step_hist = []\n",
        "  dev_step_hist = []\n",
        "\n",
        "  # Define optimizer\n",
        "  optimizer = t.optim.AdamW(model.parameters(), lr=0.0003)\n",
        "\n",
        "  # Progress logging period\n",
        "  log_period = find_best_divisor(iterations)\n",
        "\n",
        "  for i in range(iterations):\n",
        "    # Increasing batch size reduces 'noise' when training\n",
        "    x_batch, y_batch = get_batch(trn)\n",
        "\n",
        "    #### Forward pass\n",
        "    logits = model(x_batch)\n",
        "    X, Y, Z = logits.shape\n",
        "\n",
        "    loss = F.cross_entropy(logits.view(X * Y, Z), y_batch.view(X * Y))\n",
        "\n",
        "    # Periodically print training loss\n",
        "    if i % log_period == 0:\n",
        "      dev_step_hist.append(i)\n",
        "      dev_x_batch, dev_y_batch = get_batch(dev)\n",
        "      validation_logits = model(dev_x_batch)\n",
        "      X, Y, Z = validation_logits.shape\n",
        "      validation_loss = F.cross_entropy(validation_logits.view(X * Y, Z), dev_y_batch.view(X * Y))\n",
        "      dev_log_loss_hist.append(validation_loss.log10().item())\n",
        "      print(f'Batch: {i:7d} - Training Loss: {loss.item():>.4f} - Validation Loss: {validation_loss.item():>.4f}')\n",
        "\n",
        "    # Backward pass\n",
        "    optimizer.zero_grad()\n",
        "    loss.backward()\n",
        "\n",
        "    # Update params\n",
        "    optimizer.step()\n",
        "\n",
        "    # Track the log-loss\n",
        "    trn_step_hist.append(i)\n",
        "    trn_log_loss_hist.append(loss.log10().item())\n",
        "\n",
        "  return trn_step_hist, trn_log_loss_hist, dev_step_hist, dev_log_loss_hist"
      ]
    },
    {
      "cell_type": "code",
      "execution_count": 34,
      "metadata": {},
      "outputs": [],
      "source": [
        "# Potato GPU moment\n",
        "context_sequence_length = 128\n",
        "emb_dim = 64\n",
        "num_layer_neurons = 128\n",
        "learning_iterations = 1000\n",
        "training_batch_size = 32\n",
        "\n",
        "# Instantiate model in device\n",
        "gpt = BasicGPT(vocab_size, emb_dim, context_sequence_length, num_layer_neurons).to(device)"
      ]
    },
    {
      "cell_type": "code",
      "execution_count": null,
      "metadata": {
        "colab": {
          "base_uri": "https://localhost:8080/"
        },
        "id": "A0U9qTuXoC8y",
        "outputId": "d8dfd564-1f44-472c-ab6e-171be7a45c4b"
      },
      "outputs": [
        {
          "name": "stdout",
          "output_type": "stream",
          "text": [
            "Batch:       0 - Training Loss: 11.7042 - Validation Loss: 11.7061\n",
            "Batch:      50 - Training Loss: 11.1436 - Validation Loss: 11.1401\n",
            "Batch:     100 - Training Loss: 9.2402 - Validation Loss: 9.2883\n",
            "Batch:     150 - Training Loss: 7.9856 - Validation Loss: 8.0684\n",
            "Batch:     200 - Training Loss: 7.5390 - Validation Loss: 7.5930\n",
            "Batch:     250 - Training Loss: 7.3861 - Validation Loss: 7.3831\n",
            "Batch:     300 - Training Loss: 7.3828 - Validation Loss: 7.3405\n",
            "Batch:     350 - Training Loss: 7.4471 - Validation Loss: 7.4631\n",
            "Batch:     400 - Training Loss: 7.3259 - Validation Loss: 7.3512\n",
            "Batch:     450 - Training Loss: 7.1810 - Validation Loss: 7.1930\n",
            "Batch:     500 - Training Loss: 7.0499 - Validation Loss: 7.2241\n",
            "Batch:     550 - Training Loss: 7.1778 - Validation Loss: 7.1459\n",
            "Batch:     600 - Training Loss: 7.1504 - Validation Loss: 7.1834\n",
            "Batch:     650 - Training Loss: 7.1334 - Validation Loss: 7.1887\n",
            "Batch:     700 - Training Loss: 7.0619 - Validation Loss: 7.1071\n",
            "Batch:     750 - Training Loss: 6.8477 - Validation Loss: 7.0648\n",
            "Batch:     800 - Training Loss: 6.8509 - Validation Loss: 6.9469\n",
            "Batch:     850 - Training Loss: 6.8721 - Validation Loss: 6.8685\n",
            "Batch:     900 - Training Loss: 6.7720 - Validation Loss: 6.9353\n",
            "Batch:     950 - Training Loss: 6.7682 - Validation Loss: 6.9424\n"
          ]
        }
      ],
      "source": [
        "_, trn_log_loss_hist, dev_step_hist, dev_log_loss_hist = train(gpt, learning_iterations)"
      ]
    },
    {
      "cell_type": "code",
      "execution_count": null,
      "metadata": {
        "colab": {
          "base_uri": "https://localhost:8080/",
          "height": 881
        },
        "id": "8ixfTfohSKu-",
        "outputId": "79bcac8e-a348-4901-f49f-e06ae1c0429d"
      },
      "outputs": [
        {
          "data": {
            "image/png": "[encoded data removed]",
            "text/plain": [
              "<Figure size 640x480 with 1 Axes>"
            ]
          },
          "metadata": {},
          "output_type": "display_data"
        },
        {
          "data": {
            "image/png": "[encoded data removed]",
            "text/plain": [
              "<Figure size 640x480 with 1 Axes>"
            ]
          },
          "metadata": {},
          "output_type": "display_data"
        }
      ],
      "source": [
        "plot_log_loss_hist(trn_log_loss_hist, dev_step_hist, dev_log_loss_hist, 1)\n",
        "plot_log_loss_hist(trn_log_loss_hist, dev_step_hist, dev_log_loss_hist)"
      ]
    },
    {
      "cell_type": "code",
      "execution_count": null,
      "metadata": {
        "colab": {
          "base_uri": "https://localhost:8080/"
        },
        "id": "7Ci1pBoLSThR",
        "outputId": "3b3d1124-d0d7-4e8f-8a67-9fcfc7ebdd8e"
      },
      "outputs": [
        {
          "name": "stdout",
          "output_type": "stream",
          "text": [
            "Batch:       0 - Training Loss: 6.7419 - Validation Loss: 6.9430\n",
            "Batch:     200 - Training Loss: 6.8176 - Validation Loss: 6.7442\n",
            "Batch:     400 - Training Loss: 6.5061 - Validation Loss: 6.6059\n",
            "Batch:     600 - Training Loss: 6.7255 - Validation Loss: 6.6353\n",
            "Batch:     800 - Training Loss: 6.4541 - Validation Loss: 6.7182\n",
            "Batch:    1000 - Training Loss: 6.5480 - Validation Loss: 6.6101\n",
            "Batch:    1200 - Training Loss: 6.3499 - Validation Loss: 6.4622\n",
            "Batch:    1400 - Training Loss: 6.3548 - Validation Loss: 6.4359\n",
            "Batch:    1600 - Training Loss: 6.1917 - Validation Loss: 6.6234\n",
            "Batch:    1800 - Training Loss: 6.3398 - Validation Loss: 6.5832\n",
            "Batch:    2000 - Training Loss: 6.1280 - Validation Loss: 6.5392\n",
            "Batch:    2200 - Training Loss: 6.0845 - Validation Loss: 6.4819\n",
            "Batch:    2400 - Training Loss: 5.9133 - Validation Loss: 6.6757\n",
            "Batch:    2600 - Training Loss: 6.0441 - Validation Loss: 6.5648\n",
            "Batch:    2800 - Training Loss: 5.9446 - Validation Loss: 6.2864\n",
            "Batch:    3000 - Training Loss: 6.0418 - Validation Loss: 6.2125\n",
            "Batch:    3200 - Training Loss: 6.1140 - Validation Loss: 6.1267\n",
            "Batch:    3400 - Training Loss: 5.8133 - Validation Loss: 6.4178\n",
            "Batch:    3600 - Training Loss: 5.8634 - Validation Loss: 6.2034\n",
            "Batch:    3800 - Training Loss: 5.8830 - Validation Loss: 6.2150\n",
            "Batch:    4000 - Training Loss: 5.8389 - Validation Loss: 6.0971\n",
            "Batch:    4200 - Training Loss: 5.7280 - Validation Loss: 6.2069\n",
            "Batch:    4400 - Training Loss: 5.8114 - Validation Loss: 6.2928\n",
            "Batch:    4600 - Training Loss: 5.8237 - Validation Loss: 6.2956\n",
            "Batch:    4800 - Training Loss: 5.8503 - Validation Loss: 6.2396\n",
            "Batch:    5000 - Training Loss: 5.4861 - Validation Loss: 6.0889\n",
            "Batch:    5200 - Training Loss: 5.4316 - Validation Loss: 5.9885\n",
            "Batch:    5400 - Training Loss: 5.7721 - Validation Loss: 6.0209\n",
            "Batch:    5600 - Training Loss: 5.6677 - Validation Loss: 6.0547\n",
            "Batch:    5800 - Training Loss: 5.6231 - Validation Loss: 6.2571\n",
            "Batch:    6000 - Training Loss: 5.5785 - Validation Loss: 6.0749\n",
            "Batch:    6200 - Training Loss: 5.6908 - Validation Loss: 6.0690\n",
            "Batch:    6400 - Training Loss: 5.4954 - Validation Loss: 6.2355\n",
            "Batch:    6600 - Training Loss: 5.3652 - Validation Loss: 6.1176\n",
            "Batch:    6800 - Training Loss: 5.5148 - Validation Loss: 6.1313\n",
            "Batch:    7000 - Training Loss: 5.5894 - Validation Loss: 6.0594\n",
            "Batch:    7200 - Training Loss: 5.4854 - Validation Loss: 6.2501\n",
            "Batch:    7400 - Training Loss: 5.3563 - Validation Loss: 6.1743\n",
            "Batch:    7600 - Training Loss: 5.5030 - Validation Loss: 6.0850\n",
            "Batch:    7800 - Training Loss: 5.2791 - Validation Loss: 5.9258\n",
            "Batch:    8000 - Training Loss: 5.3092 - Validation Loss: 6.0396\n",
            "Batch:    8200 - Training Loss: 5.4297 - Validation Loss: 5.9696\n",
            "Batch:    8400 - Training Loss: 5.3500 - Validation Loss: 6.2618\n",
            "Batch:    8600 - Training Loss: 5.4250 - Validation Loss: 5.9596\n",
            "Batch:    8800 - Training Loss: 5.2204 - Validation Loss: 5.8047\n",
            "Batch:    9000 - Training Loss: 5.2366 - Validation Loss: 5.8076\n",
            "Batch:    9200 - Training Loss: 5.3257 - Validation Loss: 5.9933\n",
            "Batch:    9400 - Training Loss: 5.3588 - Validation Loss: 6.0222\n",
            "Batch:    9600 - Training Loss: 5.3527 - Validation Loss: 6.0354\n",
            "Batch:    9800 - Training Loss: 5.3926 - Validation Loss: 5.9620\n"
          ]
        }
      ],
      "source": [
        "learning_iterations = 10000\n",
        "\n",
        "_, trn_log_loss_hist, dev_step_hist, dev_log_loss_hist = train(gpt, learning_iterations)"
      ]
    },
    {
      "cell_type": "code",
      "execution_count": null,
      "metadata": {
        "colab": {
          "base_uri": "https://localhost:8080/",
          "height": 881
        },
        "id": "RSR3BVCnWV5P",
        "outputId": "ba11f5bf-dc66-4950-864e-6f66d67b0669"
      },
      "outputs": [
        {
          "data": {
            "image/png": "[encoded data removed]",
            "text/plain": [
              "<Figure size 640x480 with 1 Axes>"
            ]
          },
          "metadata": {},
          "output_type": "display_data"
        },
        {
          "data": {
            "image/png": "[encoded data removed]",
            "text/plain": [
              "<Figure size 640x480 with 1 Axes>"
            ]
          },
          "metadata": {},
          "output_type": "display_data"
        }
      ],
      "source": [
        "plot_log_loss_hist(trn_log_loss_hist, dev_step_hist, dev_log_loss_hist, 1)\n",
        "plot_log_loss_hist(trn_log_loss_hist, dev_step_hist, dev_log_loss_hist)"
      ]
    },
    {
      "cell_type": "code",
      "execution_count": null,
      "metadata": {
        "id": "gRiZIrWsXrF6"
      },
      "outputs": [],
      "source": [
        "t.save(gpt.state_dict(), 'gpt000.pth')"
      ]
    },
    {
      "cell_type": "code",
      "execution_count": 35,
      "metadata": {},
      "outputs": [
        {
          "data": {
            "text/plain": [
              "<All keys matched successfully>"
            ]
          },
          "execution_count": 35,
          "metadata": {},
          "output_type": "execute_result"
        }
      ],
      "source": [
        "gpt.load_state_dict(t.load('gpt000.pth'))"
      ]
    },
    {
      "cell_type": "code",
      "execution_count": 51,
      "metadata": {
        "colab": {
          "base_uri": "https://localhost:8080/"
        },
        "id": "sKjRYc0noC8y",
        "outputId": "b86378f3-3800-475b-b5c9-21f49a8eaf41"
      },
      "outputs": [
        {
          "name": "stdout",
          "output_type": "stream",
          "text": [
            "Input:\n",
            "tensor([  32, 1841,  374,  264,  220], device='cuda:0')\n"
          ]
        }
      ],
      "source": [
        "prompt = 'A car is a '\n",
        "input_tokens = tokenizer.encode(prompt)\n",
        "input_tokens = t.tensor(input_tokens, device=device)\n",
        "print(f'Input:\\n{input_tokens}')"
      ]
    },
    {
      "cell_type": "code",
      "execution_count": 53,
      "metadata": {
        "colab": {
          "base_uri": "https://localhost:8080/",
          "height": 495
        },
        "id": "lkZycYu4oC8z",
        "outputId": "4229e2e3-4da4-49ef-9c14-77cb607e220a"
      },
      "outputs": [
        {
          "name": "stdout",
          "output_type": "stream",
          "text": [
            "A car is a 9 similar fifth match to await male and broad at least April from Cape Evita ; main reason of the river to ten touchdowns with the appropriate they were eventually altered the name in L. Eliuntristta with her @-@ freeals . There have been built only like Margaret until 5 @,@ 000 investment when the player was not . \" and Marcus into a JVmen builds giant is often turned into a run by Kingdom , and isolated with an hour . \n",
            "\n",
            " = = Distribution agon that\n"
          ]
        }
      ],
      "source": [
        "gpt.train(False)\n",
        "\n",
        "generated_tokens = gpt.generate(input_tokens.unsqueeze(0), max_tokens=100)[0].tolist()\n",
        "print(tokenizer.decode(generated_tokens).strip())"
      ]
    },
    {
      "cell_type": "code",
      "execution_count": null,
      "metadata": {},
      "outputs": [],
      "source": [
        "class MultiAttentionHead(nn.Module):\n",
        "  def __init__(\n",
        "    self,\n",
        "    head_count,\n",
        "    head_size,\n",
        "    emb_dim\n",
        "  ):\n",
        "    super().__init__()\n",
        "    self.heads = nn.ModuleList([AttentionHead(head_size, emb_dim) for _ in range(head_count)])\n",
        "\n",
        "  def forward(self, x):\n",
        "    return t.cat([head(x) for head in self.heads], dim=-1)\n",
        "\n",
        "class AttentionHead(nn.Module):\n",
        "  def __init__(\n",
        "    self,\n",
        "    head_size,\n",
        "    emb_dim,\n",
        "    *args,\n",
        "    **kwargs\n",
        "  ):\n",
        "    super().__init__(*args, **kwargs)\n",
        "    self.head_size = head_size\n",
        "\n",
        "    self.queries = nn.Linear(emb_dim, head_size, bias=False)\n",
        "    self.keys = nn.Linear(emb_dim, head_size, bias=False)\n",
        "    self.values = nn.Linear(emb_dim, head_size, bias=False)\n",
        "\n",
        "    self.register_buffer('decoder_mask', t.tril(t.ones(context_sequence_length, context_sequence_length)))\n",
        "\n",
        "  def forward(self, x):\n",
        "    q = self.queries(x)\n",
        "    k = self.keys(x)\n",
        "    v = self.values(x)\n",
        "\n",
        "    attention_weights = q @ k.transpose(-2, -1) * self.head_size**-0.5\n",
        "    dim = x.shape[1]\n",
        "    attention_weights = attention_weights.masked_fill(self.decoder_mask[:dim, :dim] == 0, float('-Inf'))\n",
        "    attention_weights = F.softmax(attention_weights, dim=-1)\n",
        "\n",
        "    out = attention_weights @ v\n",
        "\n",
        "    return out\n",
        "\n",
        "class MultiHeadGPT(nn.Module):\n",
        "\n",
        "  def __init__(\n",
        "    self,\n",
        "    vocab_size,\n",
        "    emb_dim,\n",
        "    context_sequence_length,\n",
        "    num_layer_neurons,\n",
        "    *args,\n",
        "    **kwargs\n",
        "  ):\n",
        "    super().__init__(*args, **kwargs)\n",
        "    self.lookup = nn.Embedding(vocab_size, emb_dim)\n",
        "    self.pos = nn.Embedding(context_sequence_length, emb_dim)\n",
        "\n",
        "    self.attention = MultiAttentionHead(4, emb_dim // 4, emb_dim)\n",
        "    self.norm_0 = nn.LayerNorm(emb_dim)\n",
        "\n",
        "    self.hidden_0 = nn.Linear(emb_dim, num_layer_neurons, bias=False)\n",
        "    self.gelu = nn.GELU()\n",
        "    self.hidden_1 = nn.Linear(num_layer_neurons, emb_dim)\n",
        "    self.norm_1 = nn.LayerNorm(emb_dim)\n",
        "\n",
        "    self.final = nn.Linear(emb_dim, vocab_size)\n",
        "\n",
        "  def forward(self, x):\n",
        "    x = self.lookup(x)\n",
        "    residue = self.pos(t.arange(x.shape[1], device=device)) + x\n",
        "\n",
        "    x = self.attention(residue)\n",
        "    x = x + residue\n",
        "    residue = self.norm_0(x)\n",
        "\n",
        "    x = self.hidden_0(residue)\n",
        "    x = self.gelu(x)\n",
        "    x = self.hidden_1(x)\n",
        "    x = x + residue\n",
        "    residue = self.norm_1(x)\n",
        "\n",
        "    out = self.final(residue)\n",
        "    return out\n",
        "\n",
        "  def generate(self, x, max_tokens):\n",
        "    for _ in range(max_tokens):\n",
        "      logits = self(x[:, -context_sequence_length:])[:, -1, :]\n",
        "      probs = F.softmax(logits, dim=-1)\n",
        "      sample_index = t.multinomial(probs, 1)\n",
        "      x = t.cat((x, sample_index), dim=1)\n",
        "    return x"
      ]
    },
    {
      "cell_type": "markdown",
      "metadata": {
        "id": "c8INaO7PENuT"
      },
      "source": [
        "## Example: \"WaveNet\" structure implementation"
      ]
    },
    {
      "cell_type": "code",
      "execution_count": null,
      "metadata": {
        "id": "mALrkUD_ENuT"
      },
      "outputs": [],
      "source": [
        "class GroupEmbedding(nn.Module):\n",
        "  def __init__(self, factor: int = 2):\n",
        "    super().__init__()\n",
        "    self.factor = factor\n",
        "\n",
        "  def forward(self, input: t.Tensor):\n",
        "    shape = input.shape\n",
        "    input = input.view(shape[0], -1, shape[-1] * self.factor)\n",
        "    return input if input.shape[-2] != 1 else input.squeeze(-2)\n",
        "\n",
        "  def extra_repr(self) -> str:\n",
        "    return f'factor={self.factor}'\n",
        "\n",
        "class WaveNet(nn.Module):\n",
        "\n",
        "  def __init__(\n",
        "    self,\n",
        "    vocab_size,\n",
        "    emb_dim,\n",
        "    input_block_size,\n",
        "    group_size,\n",
        "    num_layer_neurons,\n",
        "    *args,\n",
        "    **kwargs\n",
        "  ):\n",
        "    super().__init__(*args, **kwargs)\n",
        "\n",
        "    self.lookup = nn.Embedding(vocab_size, emb_dim)\n",
        "\n",
        "    input_block_size //= group_size\n",
        "    self.block_0 = nn.Sequential(\n",
        "      GroupEmbedding(group_size),\n",
        "      nn.Linear(group_size * emb_dim, num_layer_neurons, bias=False),\n",
        "      nn.BatchNorm1d(input_block_size),\n",
        "      nn.Tanh(),\n",
        "    )\n",
        "\n",
        "    input_block_size //= group_size\n",
        "    self.block_1 = nn.Sequential(\n",
        "      GroupEmbedding(group_size),\n",
        "      nn.Linear(group_size * num_layer_neurons, num_layer_neurons, bias=False),\n",
        "      nn.BatchNorm1d(input_block_size),\n",
        "      nn.Tanh(),\n",
        "    )\n",
        "\n",
        "    self.last_block = nn.Sequential(\n",
        "      GroupEmbedding(group_size),\n",
        "      nn.Linear(group_size * num_layer_neurons, num_layer_neurons, bias=False),\n",
        "      nn.BatchNorm1d(num_layer_neurons),\n",
        "      nn.Tanh(),\n",
        "    )\n",
        "\n",
        "    self.final = nn.Linear(num_layer_neurons, vocab_size)\n",
        "\n",
        "  def forward(self, x):\n",
        "    x = self.lookup(x)\n",
        "    x = self.block_0(x)\n",
        "    x = self.block_1(x)\n",
        "    x = self.last_block(x)\n",
        "    x = self.final(x)\n",
        "    return x"
      ]
    },
    {
      "cell_type": "code",
      "execution_count": null,
      "metadata": {
        "id": "4mzV0YknENuT"
      },
      "outputs": [],
      "source": [
        "# Increase block size\n",
        "\n",
        "input_block_size = 8"
      ]
    },
    {
      "cell_type": "code",
      "execution_count": null,
      "metadata": {
        "id": "rehQRg3qENuT",
        "outputId": "01a07e3b-c2a7-455c-a764-4d4ffb79f8ff"
      },
      "outputs": [
        {
          "name": "stdout",
          "output_type": "stream",
          "text": [
            "torch.Size([182427, 8]) torch.Size([182427])\n",
            "torch.Size([22852, 8]) torch.Size([22852])\n",
            "torch.Size([22867, 8]) torch.Size([22867])\n"
          ]
        }
      ],
      "source": [
        "# Rebuild dataset\n",
        "\n",
        "random.shuffle(words)\n",
        "n1 = int(0.8 * len(words))\n",
        "n2 = int(0.9 * len(words))\n",
        "\n",
        "Xtrn, Ytrn = build_dataset(words[:n1], input_block_size)\n",
        "Xdev, Ydev = build_dataset(words[n1:n2], input_block_size)\n",
        "Xtes, Ytes = build_dataset(words[n2:], input_block_size)"
      ]
    },
    {
      "cell_type": "code",
      "execution_count": null,
      "metadata": {
        "id": "g1nVAPxkENuU"
      },
      "outputs": [],
      "source": [
        "basic_model = model"
      ]
    },
    {
      "cell_type": "code",
      "execution_count": null,
      "metadata": {
        "id": "H1aHOZ0SENuU"
      },
      "outputs": [],
      "source": [
        "# Instantiate model in device\n",
        "\n",
        "group_size = 2  # (cubic root of 8)\n",
        "\n",
        "model = WaveNet(vocab_size, emb_dim, input_block_size, group_size, num_layer_neurons)\n",
        "model = model.to(device)"
      ]
    },
    {
      "cell_type": "code",
      "execution_count": null,
      "metadata": {
        "id": "InpGGrztENuU",
        "outputId": "e63a03de-ddcd-4468-d605-77d4fe517281"
      },
      "outputs": [
        {
          "data": {
            "text/plain": [
              "WaveNet(\n",
              "  (lookup): Embedding(27, 10)\n",
              "  (block_0): Sequential(\n",
              "    (0): GroupEmbedding(factor=2)\n",
              "    (1): Linear(in_features=20, out_features=200, bias=False)\n",
              "    (2): BatchNorm1d(4, eps=1e-05, momentum=0.1, affine=True, track_running_stats=True)\n",
              "    (3): Tanh()\n",
              "  )\n",
              "  (block_1): Sequential(\n",
              "    (0): GroupEmbedding(factor=2)\n",
              "    (1): Linear(in_features=400, out_features=200, bias=False)\n",
              "    (2): BatchNorm1d(2, eps=1e-05, momentum=0.1, affine=True, track_running_stats=True)\n",
              "    (3): Tanh()\n",
              "  )\n",
              "  (last_block): Sequential(\n",
              "    (0): GroupEmbedding(factor=2)\n",
              "    (1): Linear(in_features=400, out_features=200, bias=False)\n",
              "    (2): BatchNorm1d(200, eps=1e-05, momentum=0.1, affine=True, track_running_stats=True)\n",
              "    (3): Tanh()\n",
              "  )\n",
              "  (final): Linear(in_features=200, out_features=27, bias=True)\n",
              ")"
            ]
          },
          "execution_count": 97,
          "metadata": {},
          "output_type": "execute_result"
        }
      ],
      "source": [
        "model"
      ]
    },
    {
      "cell_type": "code",
      "execution_count": null,
      "metadata": {
        "id": "cKkoq-B0ENuU",
        "outputId": "4ed94f43-0c47-447c-a683-be7af750b8fd"
      },
      "outputs": [
        {
          "name": "stdout",
          "output_type": "stream",
          "text": [
            "Batch:       0 - Loss: 3.3560593128204346\n",
            "Batch:   15000 - Loss: 2.094456434249878\n",
            "Batch:   30000 - Loss: 2.287414073944092\n",
            "Batch:   45000 - Loss: 2.157564163208008\n",
            "Batch:   60000 - Loss: 2.0257408618927\n",
            "Batch:   75000 - Loss: 1.7671853303909302\n",
            "Batch:   90000 - Loss: 1.6970891952514648\n",
            "Batch:  105000 - Loss: 1.9333022832870483\n",
            "Batch:  120000 - Loss: 1.8882107734680176\n",
            "Batch:  135000 - Loss: 2.167881727218628\n",
            "Batch:  150000 - Loss: 2.1600329875946045\n",
            "Batch:  165000 - Loss: 1.7912647724151611\n",
            "Training loss   = 1.7794862985610962\n",
            "Validation loss = 2.0236449241638184\n",
            "Testing loss    = 2.0272936820983887\n"
          ]
        },
        {
          "data": {
            "image/png": "[encoded data removed]",
            "text/plain": [
              "<Figure size 640x480 with 1 Axes>"
            ]
          },
          "metadata": {},
          "output_type": "display_data"
        }
      ],
      "source": [
        "reset_train_eval()"
      ]
    },
    {
      "cell_type": "code",
      "execution_count": null,
      "metadata": {
        "id": "Kj6kI-uvENuV",
        "outputId": "191c0175-7c29-4fa7-e8bc-abb8bdd70faa"
      },
      "outputs": [
        {
          "name": "stdout",
          "output_type": "stream",
          "text": [
            "['janella', 'milee', 'oluwamaria', 'tannleigh', 'brandon', 'aakin', 'renity', 'jenoni', 'eyzlene', 'avonni', 'khyree', 'kealani', 'aubitha', 'nivellah', 'cecen', 'ahmir', 'gabeth', 'kimiah', 'lauron', 'jaspen', 'zurimylazi', 'ezekiel', 'regdan', 'jaron', 'keanna', 'anabee', 'neffaan', 'rhyle', 'laurianna', 'desankida']\n"
          ]
        }
      ],
      "source": [
        "predict(69)"
      ]
    }
  ],
  "metadata": {
    "accelerator": "GPU",
    "colab": {
      "gpuType": "T4",
      "provenance": []
    },
    "kernelspec": {
      "display_name": "Python 3",
      "name": "python3"
    },
    "language_info": {
      "codemirror_mode": {
        "name": "ipython",
        "version": 3
      },
      "file_extension": ".py",
      "mimetype": "text/x-python",
      "name": "python",
      "nbconvert_exporter": "python",
      "pygments_lexer": "ipython3",
      "version": "3.11.4"
    },
    "vscode": {
      "interpreter": {
        "hash": "369f2c481f4da34e4445cda3fffd2e751bd1c4d706f27375911949ba6bb62e1c"
      }
    },
    "widgets": {
      "application/vnd.jupyter.widget-state+json": {
        "082df8da2e7f45dea4f45654f682572f": {
          "model_module": "@jupyter-widgets/base",
          "model_module_version": "1.2.0",
          "model_name": "LayoutModel",
          "state": {
            "_model_module": "@jupyter-widgets/base",
            "_model_module_version": "1.2.0",
            "_model_name": "LayoutModel",
            "_view_count": null,
            "_view_module": "@jupyter-widgets/base",
            "_view_module_version": "1.2.0",
            "_view_name": "LayoutView",
            "align_content": null,
            "align_items": null,
            "align_self": null,
            "border": null,
            "bottom": null,
            "display": null,
            "flex": null,
            "flex_flow": null,
            "grid_area": null,
            "grid_auto_columns": null,
            "grid_auto_flow": null,
            "grid_auto_rows": null,
            "grid_column": null,
            "grid_gap": null,
            "grid_row": null,
            "grid_template_areas": null,
            "grid_template_columns": null,
            "grid_template_rows": null,
            "height": null,
            "justify_content": null,
            "justify_items": null,
            "left": null,
            "margin": null,
            "max_height": null,
            "max_width": null,
            "min_height": null,
            "min_width": null,
            "object_fit": null,
            "object_position": null,
            "order": null,
            "overflow": null,
            "overflow_x": null,
            "overflow_y": null,
            "padding": null,
            "right": null,
            "top": null,
            "visibility": null,
            "width": null
          }
        },
        "0c4e3d7f482d4d9695b170c92c41fff6": {
          "model_module": "@jupyter-widgets/base",
          "model_module_version": "1.2.0",
          "model_name": "LayoutModel",
          "state": {
            "_model_module": "@jupyter-widgets/base",
            "_model_module_version": "1.2.0",
            "_model_name": "LayoutModel",
            "_view_count": null,
            "_view_module": "@jupyter-widgets/base",
            "_view_module_version": "1.2.0",
            "_view_name": "LayoutView",
            "align_content": null,
            "align_items": null,
            "align_self": null,
            "border": null,
            "bottom": null,
            "display": null,
            "flex": null,
            "flex_flow": null,
            "grid_area": null,
            "grid_auto_columns": null,
            "grid_auto_flow": null,
            "grid_auto_rows": null,
            "grid_column": null,
            "grid_gap": null,
            "grid_row": null,
            "grid_template_areas": null,
            "grid_template_columns": null,
            "grid_template_rows": null,
            "height": null,
            "justify_content": null,
            "justify_items": null,
            "left": null,
            "margin": null,
            "max_height": null,
            "max_width": null,
            "min_height": null,
            "min_width": null,
            "object_fit": null,
            "object_position": null,
            "order": null,
            "overflow": null,
            "overflow_x": null,
            "overflow_y": null,
            "padding": null,
            "right": null,
            "top": null,
            "visibility": null,
            "width": null
          }
        },
        "10da3ff973d947df898861ac71ff48e3": {
          "model_module": "@jupyter-widgets/controls",
          "model_module_version": "1.5.0",
          "model_name": "HTMLModel",
          "state": {
            "_dom_classes": [],
            "_model_module": "@jupyter-widgets/controls",
            "_model_module_version": "1.5.0",
            "_model_name": "HTMLModel",
            "_view_count": null,
            "_view_module": "@jupyter-widgets/controls",
            "_view_module_version": "1.5.0",
            "_view_name": "HTMLView",
            "description": "",
            "description_tooltip": null,
            "layout": "IPY_MODEL_cc560b6674fa4477a52e87e4fbcd66d0",
            "placeholder": "​",
            "style": "IPY_MODEL_3a1603879f3f48e09d627a423caffde3",
            "value": " 9.62k/9.62k [00:00&lt;00:00, 807kB/s]"
          }
        },
        "11e572c4d60b4921916e5dcc5d2a326e": {
          "model_module": "@jupyter-widgets/controls",
          "model_module_version": "1.5.0",
          "model_name": "HTMLModel",
          "state": {
            "_dom_classes": [],
            "_model_module": "@jupyter-widgets/controls",
            "_model_module_version": "1.5.0",
            "_model_name": "HTMLModel",
            "_view_count": null,
            "_view_module": "@jupyter-widgets/controls",
            "_view_module_version": "1.5.0",
            "_view_name": "HTMLView",
            "description": "",
            "description_tooltip": null,
            "layout": "IPY_MODEL_d215db73b91c4e45ad5fb0554eac9a4d",
            "placeholder": "​",
            "style": "IPY_MODEL_d20935685c6f4654aa4bc7af9c2fb538",
            "value": " 36718/36718 [00:00&lt;00:00, 56539.65 examples/s]"
          }
        },
        "124c33c46f05416cb764b1e0f55ae522": {
          "model_module": "@jupyter-widgets/controls",
          "model_module_version": "1.5.0",
          "model_name": "DescriptionStyleModel",
          "state": {
            "_model_module": "@jupyter-widgets/controls",
            "_model_module_version": "1.5.0",
            "_model_name": "DescriptionStyleModel",
            "_view_count": null,
            "_view_module": "@jupyter-widgets/base",
            "_view_module_version": "1.2.0",
            "_view_name": "StyleView",
            "description_width": ""
          }
        },
        "13442d4a2a3a4170b9b31b1e5073be36": {
          "model_module": "@jupyter-widgets/base",
          "model_module_version": "1.2.0",
          "model_name": "LayoutModel",
          "state": {
            "_model_module": "@jupyter-widgets/base",
            "_model_module_version": "1.2.0",
            "_model_name": "LayoutModel",
            "_view_count": null,
            "_view_module": "@jupyter-widgets/base",
            "_view_module_version": "1.2.0",
            "_view_name": "LayoutView",
            "align_content": null,
            "align_items": null,
            "align_self": null,
            "border": null,
            "bottom": null,
            "display": null,
            "flex": null,
            "flex_flow": null,
            "grid_area": null,
            "grid_auto_columns": null,
            "grid_auto_flow": null,
            "grid_auto_rows": null,
            "grid_column": null,
            "grid_gap": null,
            "grid_row": null,
            "grid_template_areas": null,
            "grid_template_columns": null,
            "grid_template_rows": null,
            "height": null,
            "justify_content": null,
            "justify_items": null,
            "left": null,
            "margin": null,
            "max_height": null,
            "max_width": null,
            "min_height": null,
            "min_width": null,
            "object_fit": null,
            "object_position": null,
            "order": null,
            "overflow": null,
            "overflow_x": null,
            "overflow_y": null,
            "padding": null,
            "right": null,
            "top": null,
            "visibility": null,
            "width": null
          }
        },
        "19891687a4814ab496767d55166c14eb": {
          "model_module": "@jupyter-widgets/base",
          "model_module_version": "1.2.0",
          "model_name": "LayoutModel",
          "state": {
            "_model_module": "@jupyter-widgets/base",
            "_model_module_version": "1.2.0",
            "_model_name": "LayoutModel",
            "_view_count": null,
            "_view_module": "@jupyter-widgets/base",
            "_view_module_version": "1.2.0",
            "_view_name": "LayoutView",
            "align_content": null,
            "align_items": null,
            "align_self": null,
            "border": null,
            "bottom": null,
            "display": null,
            "flex": null,
            "flex_flow": null,
            "grid_area": null,
            "grid_auto_columns": null,
            "grid_auto_flow": null,
            "grid_auto_rows": null,
            "grid_column": null,
            "grid_gap": null,
            "grid_row": null,
            "grid_template_areas": null,
            "grid_template_columns": null,
            "grid_template_rows": null,
            "height": null,
            "justify_content": null,
            "justify_items": null,
            "left": null,
            "margin": null,
            "max_height": null,
            "max_width": null,
            "min_height": null,
            "min_width": null,
            "object_fit": null,
            "object_position": null,
            "order": null,
            "overflow": null,
            "overflow_x": null,
            "overflow_y": null,
            "padding": null,
            "right": null,
            "top": null,
            "visibility": null,
            "width": null
          }
        },
        "19f0dc6413ca463ea79f09866633af80": {
          "model_module": "@jupyter-widgets/base",
          "model_module_version": "1.2.0",
          "model_name": "LayoutModel",
          "state": {
            "_model_module": "@jupyter-widgets/base",
            "_model_module_version": "1.2.0",
            "_model_name": "LayoutModel",
            "_view_count": null,
            "_view_module": "@jupyter-widgets/base",
            "_view_module_version": "1.2.0",
            "_view_name": "LayoutView",
            "align_content": null,
            "align_items": null,
            "align_self": null,
            "border": null,
            "bottom": null,
            "display": null,
            "flex": null,
            "flex_flow": null,
            "grid_area": null,
            "grid_auto_columns": null,
            "grid_auto_flow": null,
            "grid_auto_rows": null,
            "grid_column": null,
            "grid_gap": null,
            "grid_row": null,
            "grid_template_areas": null,
            "grid_template_columns": null,
            "grid_template_rows": null,
            "height": null,
            "justify_content": null,
            "justify_items": null,
            "left": null,
            "margin": null,
            "max_height": null,
            "max_width": null,
            "min_height": null,
            "min_width": null,
            "object_fit": null,
            "object_position": null,
            "order": null,
            "overflow": null,
            "overflow_x": null,
            "overflow_y": null,
            "padding": null,
            "right": null,
            "top": null,
            "visibility": null,
            "width": null
          }
        },
        "1b1bf00f2f6342b7a2ad49bf85760dac": {
          "model_module": "@jupyter-widgets/controls",
          "model_module_version": "1.5.0",
          "model_name": "HTMLModel",
          "state": {
            "_dom_classes": [],
            "_model_module": "@jupyter-widgets/controls",
            "_model_module_version": "1.5.0",
            "_model_name": "HTMLModel",
            "_view_count": null,
            "_view_module": "@jupyter-widgets/controls",
            "_view_module_version": "1.5.0",
            "_view_name": "HTMLView",
            "description": "",
            "description_tooltip": null,
            "layout": "IPY_MODEL_34e70c6323e94110939411f63d277412",
            "placeholder": "​",
            "style": "IPY_MODEL_236167c2c6cf4e66b3d75c83d5a6b129",
            "value": " 3760/3760 [00:00&lt;00:00, 37149.56 examples/s]"
          }
        },
        "2227b5b3941a4bcbbb9b0de5eb498189": {
          "model_module": "@jupyter-widgets/base",
          "model_module_version": "1.2.0",
          "model_name": "LayoutModel",
          "state": {
            "_model_module": "@jupyter-widgets/base",
            "_model_module_version": "1.2.0",
            "_model_name": "LayoutModel",
            "_view_count": null,
            "_view_module": "@jupyter-widgets/base",
            "_view_module_version": "1.2.0",
            "_view_name": "LayoutView",
            "align_content": null,
            "align_items": null,
            "align_self": null,
            "border": null,
            "bottom": null,
            "display": null,
            "flex": null,
            "flex_flow": null,
            "grid_area": null,
            "grid_auto_columns": null,
            "grid_auto_flow": null,
            "grid_auto_rows": null,
            "grid_column": null,
            "grid_gap": null,
            "grid_row": null,
            "grid_template_areas": null,
            "grid_template_columns": null,
            "grid_template_rows": null,
            "height": null,
            "justify_content": null,
            "justify_items": null,
            "left": null,
            "margin": null,
            "max_height": null,
            "max_width": null,
            "min_height": null,
            "min_width": null,
            "object_fit": null,
            "object_position": null,
            "order": null,
            "overflow": null,
            "overflow_x": null,
            "overflow_y": null,
            "padding": null,
            "right": null,
            "top": null,
            "visibility": null,
            "width": null
          }
        },
        "236167c2c6cf4e66b3d75c83d5a6b129": {
          "model_module": "@jupyter-widgets/controls",
          "model_module_version": "1.5.0",
          "model_name": "DescriptionStyleModel",
          "state": {
            "_model_module": "@jupyter-widgets/controls",
            "_model_module_version": "1.5.0",
            "_model_name": "DescriptionStyleModel",
            "_view_count": null,
            "_view_module": "@jupyter-widgets/base",
            "_view_module_version": "1.2.0",
            "_view_name": "StyleView",
            "description_width": ""
          }
        },
        "2383c2d30c904191b2dcb05759225cc3": {
          "model_module": "@jupyter-widgets/controls",
          "model_module_version": "1.5.0",
          "model_name": "DescriptionStyleModel",
          "state": {
            "_model_module": "@jupyter-widgets/controls",
            "_model_module_version": "1.5.0",
            "_model_name": "DescriptionStyleModel",
            "_view_count": null,
            "_view_module": "@jupyter-widgets/base",
            "_view_module_version": "1.2.0",
            "_view_name": "StyleView",
            "description_width": ""
          }
        },
        "2ac5a54352e1450f8f56f47e28c31c3c": {
          "model_module": "@jupyter-widgets/controls",
          "model_module_version": "1.5.0",
          "model_name": "HTMLModel",
          "state": {
            "_dom_classes": [],
            "_model_module": "@jupyter-widgets/controls",
            "_model_module_version": "1.5.0",
            "_model_name": "HTMLModel",
            "_view_count": null,
            "_view_module": "@jupyter-widgets/controls",
            "_view_module_version": "1.5.0",
            "_view_name": "HTMLView",
            "description": "",
            "description_tooltip": null,
            "layout": "IPY_MODEL_82e8dc6b942341ce8b90dc193a1d7e9f",
            "placeholder": "​",
            "style": "IPY_MODEL_5b894953afbb40f898feb731a55e7590",
            "value": " 4358/4358 [00:00&lt;00:00, 34847.86 examples/s]"
          }
        },
        "2b88bfc0f1a24728bf3e7cac921c2313": {
          "model_module": "@jupyter-widgets/controls",
          "model_module_version": "1.5.0",
          "model_name": "DescriptionStyleModel",
          "state": {
            "_model_module": "@jupyter-widgets/controls",
            "_model_module_version": "1.5.0",
            "_model_name": "DescriptionStyleModel",
            "_view_count": null,
            "_view_module": "@jupyter-widgets/base",
            "_view_module_version": "1.2.0",
            "_view_name": "StyleView",
            "description_width": ""
          }
        },
        "2def4980caa5407c8ab1653b53bd0b9d": {
          "model_module": "@jupyter-widgets/base",
          "model_module_version": "1.2.0",
          "model_name": "LayoutModel",
          "state": {
            "_model_module": "@jupyter-widgets/base",
            "_model_module_version": "1.2.0",
            "_model_name": "LayoutModel",
            "_view_count": null,
            "_view_module": "@jupyter-widgets/base",
            "_view_module_version": "1.2.0",
            "_view_name": "LayoutView",
            "align_content": null,
            "align_items": null,
            "align_self": null,
            "border": null,
            "bottom": null,
            "display": null,
            "flex": null,
            "flex_flow": null,
            "grid_area": null,
            "grid_auto_columns": null,
            "grid_auto_flow": null,
            "grid_auto_rows": null,
            "grid_column": null,
            "grid_gap": null,
            "grid_row": null,
            "grid_template_areas": null,
            "grid_template_columns": null,
            "grid_template_rows": null,
            "height": null,
            "justify_content": null,
            "justify_items": null,
            "left": null,
            "margin": null,
            "max_height": null,
            "max_width": null,
            "min_height": null,
            "min_width": null,
            "object_fit": null,
            "object_position": null,
            "order": null,
            "overflow": null,
            "overflow_x": null,
            "overflow_y": null,
            "padding": null,
            "right": null,
            "top": null,
            "visibility": null,
            "width": null
          }
        },
        "31de21be72714c8baf592ef0ea72ee7a": {
          "model_module": "@jupyter-widgets/controls",
          "model_module_version": "1.5.0",
          "model_name": "DescriptionStyleModel",
          "state": {
            "_model_module": "@jupyter-widgets/controls",
            "_model_module_version": "1.5.0",
            "_model_name": "DescriptionStyleModel",
            "_view_count": null,
            "_view_module": "@jupyter-widgets/base",
            "_view_module_version": "1.2.0",
            "_view_name": "StyleView",
            "description_width": ""
          }
        },
        "34493697bb6a4e52b6f30426a81e81d6": {
          "model_module": "@jupyter-widgets/base",
          "model_module_version": "1.2.0",
          "model_name": "LayoutModel",
          "state": {
            "_model_module": "@jupyter-widgets/base",
            "_model_module_version": "1.2.0",
            "_model_name": "LayoutModel",
            "_view_count": null,
            "_view_module": "@jupyter-widgets/base",
            "_view_module_version": "1.2.0",
            "_view_name": "LayoutView",
            "align_content": null,
            "align_items": null,
            "align_self": null,
            "border": null,
            "bottom": null,
            "display": null,
            "flex": null,
            "flex_flow": null,
            "grid_area": null,
            "grid_auto_columns": null,
            "grid_auto_flow": null,
            "grid_auto_rows": null,
            "grid_column": null,
            "grid_gap": null,
            "grid_row": null,
            "grid_template_areas": null,
            "grid_template_columns": null,
            "grid_template_rows": null,
            "height": null,
            "justify_content": null,
            "justify_items": null,
            "left": null,
            "margin": null,
            "max_height": null,
            "max_width": null,
            "min_height": null,
            "min_width": null,
            "object_fit": null,
            "object_position": null,
            "order": null,
            "overflow": null,
            "overflow_x": null,
            "overflow_y": null,
            "padding": null,
            "right": null,
            "top": null,
            "visibility": null,
            "width": null
          }
        },
        "34e70c6323e94110939411f63d277412": {
          "model_module": "@jupyter-widgets/base",
          "model_module_version": "1.2.0",
          "model_name": "LayoutModel",
          "state": {
            "_model_module": "@jupyter-widgets/base",
            "_model_module_version": "1.2.0",
            "_model_name": "LayoutModel",
            "_view_count": null,
            "_view_module": "@jupyter-widgets/base",
            "_view_module_version": "1.2.0",
            "_view_name": "LayoutView",
            "align_content": null,
            "align_items": null,
            "align_self": null,
            "border": null,
            "bottom": null,
            "display": null,
            "flex": null,
            "flex_flow": null,
            "grid_area": null,
            "grid_auto_columns": null,
            "grid_auto_flow": null,
            "grid_auto_rows": null,
            "grid_column": null,
            "grid_gap": null,
            "grid_row": null,
            "grid_template_areas": null,
            "grid_template_columns": null,
            "grid_template_rows": null,
            "height": null,
            "justify_content": null,
            "justify_items": null,
            "left": null,
            "margin": null,
            "max_height": null,
            "max_width": null,
            "min_height": null,
            "min_width": null,
            "object_fit": null,
            "object_position": null,
            "order": null,
            "overflow": null,
            "overflow_x": null,
            "overflow_y": null,
            "padding": null,
            "right": null,
            "top": null,
            "visibility": null,
            "width": null
          }
        },
        "385da69c826645f2ba67215a5d4cac57": {
          "model_module": "@jupyter-widgets/controls",
          "model_module_version": "1.5.0",
          "model_name": "HBoxModel",
          "state": {
            "_dom_classes": [],
            "_model_module": "@jupyter-widgets/controls",
            "_model_module_version": "1.5.0",
            "_model_name": "HBoxModel",
            "_view_count": null,
            "_view_module": "@jupyter-widgets/controls",
            "_view_module_version": "1.5.0",
            "_view_name": "HBoxView",
            "box_style": "",
            "children": [
              "IPY_MODEL_fcf3df74998e4e54ae30f86db66e790a",
              "IPY_MODEL_b511fa05141a495ab6f6d2df8c9ea67e",
              "IPY_MODEL_5a756bdb2f784c5fb6bfa9daaa67b0bc"
            ],
            "layout": "IPY_MODEL_56dfc341c27245579518ca99a20b4c20"
          }
        },
        "3a1603879f3f48e09d627a423caffde3": {
          "model_module": "@jupyter-widgets/controls",
          "model_module_version": "1.5.0",
          "model_name": "DescriptionStyleModel",
          "state": {
            "_model_module": "@jupyter-widgets/controls",
            "_model_module_version": "1.5.0",
            "_model_name": "DescriptionStyleModel",
            "_view_count": null,
            "_view_module": "@jupyter-widgets/base",
            "_view_module_version": "1.2.0",
            "_view_name": "StyleView",
            "description_width": ""
          }
        },
        "3ecb6bfa00c043bfb68678332c943a24": {
          "model_module": "@jupyter-widgets/base",
          "model_module_version": "1.2.0",
          "model_name": "LayoutModel",
          "state": {
            "_model_module": "@jupyter-widgets/base",
            "_model_module_version": "1.2.0",
            "_model_name": "LayoutModel",
            "_view_count": null,
            "_view_module": "@jupyter-widgets/base",
            "_view_module_version": "1.2.0",
            "_view_name": "LayoutView",
            "align_content": null,
            "align_items": null,
            "align_self": null,
            "border": null,
            "bottom": null,
            "display": null,
            "flex": null,
            "flex_flow": null,
            "grid_area": null,
            "grid_auto_columns": null,
            "grid_auto_flow": null,
            "grid_auto_rows": null,
            "grid_column": null,
            "grid_gap": null,
            "grid_row": null,
            "grid_template_areas": null,
            "grid_template_columns": null,
            "grid_template_rows": null,
            "height": null,
            "justify_content": null,
            "justify_items": null,
            "left": null,
            "margin": null,
            "max_height": null,
            "max_width": null,
            "min_height": null,
            "min_width": null,
            "object_fit": null,
            "object_position": null,
            "order": null,
            "overflow": null,
            "overflow_x": null,
            "overflow_y": null,
            "padding": null,
            "right": null,
            "top": null,
            "visibility": null,
            "width": null
          }
        },
        "4160a96df1d746c9887933df0efa4991": {
          "model_module": "@jupyter-widgets/base",
          "model_module_version": "1.2.0",
          "model_name": "LayoutModel",
          "state": {
            "_model_module": "@jupyter-widgets/base",
            "_model_module_version": "1.2.0",
            "_model_name": "LayoutModel",
            "_view_count": null,
            "_view_module": "@jupyter-widgets/base",
            "_view_module_version": "1.2.0",
            "_view_name": "LayoutView",
            "align_content": null,
            "align_items": null,
            "align_self": null,
            "border": null,
            "bottom": null,
            "display": null,
            "flex": null,
            "flex_flow": null,
            "grid_area": null,
            "grid_auto_columns": null,
            "grid_auto_flow": null,
            "grid_auto_rows": null,
            "grid_column": null,
            "grid_gap": null,
            "grid_row": null,
            "grid_template_areas": null,
            "grid_template_columns": null,
            "grid_template_rows": null,
            "height": null,
            "justify_content": null,
            "justify_items": null,
            "left": null,
            "margin": null,
            "max_height": null,
            "max_width": null,
            "min_height": null,
            "min_width": null,
            "object_fit": null,
            "object_position": null,
            "order": null,
            "overflow": null,
            "overflow_x": null,
            "overflow_y": null,
            "padding": null,
            "right": null,
            "top": null,
            "visibility": null,
            "width": null
          }
        },
        "41dfbb26eb8144039de38a785515c782": {
          "model_module": "@jupyter-widgets/base",
          "model_module_version": "1.2.0",
          "model_name": "LayoutModel",
          "state": {
            "_model_module": "@jupyter-widgets/base",
            "_model_module_version": "1.2.0",
            "_model_name": "LayoutModel",
            "_view_count": null,
            "_view_module": "@jupyter-widgets/base",
            "_view_module_version": "1.2.0",
            "_view_name": "LayoutView",
            "align_content": null,
            "align_items": null,
            "align_self": null,
            "border": null,
            "bottom": null,
            "display": null,
            "flex": null,
            "flex_flow": null,
            "grid_area": null,
            "grid_auto_columns": null,
            "grid_auto_flow": null,
            "grid_auto_rows": null,
            "grid_column": null,
            "grid_gap": null,
            "grid_row": null,
            "grid_template_areas": null,
            "grid_template_columns": null,
            "grid_template_rows": null,
            "height": null,
            "justify_content": null,
            "justify_items": null,
            "left": null,
            "margin": null,
            "max_height": null,
            "max_width": null,
            "min_height": null,
            "min_width": null,
            "object_fit": null,
            "object_position": null,
            "order": null,
            "overflow": null,
            "overflow_x": null,
            "overflow_y": null,
            "padding": null,
            "right": null,
            "top": null,
            "visibility": null,
            "width": null
          }
        },
        "42cb23fb17994514be153d116be523ae": {
          "model_module": "@jupyter-widgets/controls",
          "model_module_version": "1.5.0",
          "model_name": "HBoxModel",
          "state": {
            "_dom_classes": [],
            "_model_module": "@jupyter-widgets/controls",
            "_model_module_version": "1.5.0",
            "_model_name": "HBoxModel",
            "_view_count": null,
            "_view_module": "@jupyter-widgets/controls",
            "_view_module_version": "1.5.0",
            "_view_name": "HBoxView",
            "box_style": "",
            "children": [
              "IPY_MODEL_4d1f0439ae0b47ab97fdb21260032c3c",
              "IPY_MODEL_74e81f0142574fd38111b14ec5b0c266",
              "IPY_MODEL_705884c827664347a49e52cdccb9873d"
            ],
            "layout": "IPY_MODEL_986d2c46a2f640f9a366d8edb36c992e"
          }
        },
        "45448728f6de40868b36b490acc73bbd": {
          "model_module": "@jupyter-widgets/controls",
          "model_module_version": "1.5.0",
          "model_name": "FloatProgressModel",
          "state": {
            "_dom_classes": [],
            "_model_module": "@jupyter-widgets/controls",
            "_model_module_version": "1.5.0",
            "_model_name": "FloatProgressModel",
            "_view_count": null,
            "_view_module": "@jupyter-widgets/controls",
            "_view_module_version": "1.5.0",
            "_view_name": "ProgressView",
            "bar_style": "success",
            "description": "",
            "description_tooltip": null,
            "layout": "IPY_MODEL_f58c3434c6f8451998f35da592746e34",
            "max": 4358,
            "min": 0,
            "orientation": "horizontal",
            "style": "IPY_MODEL_4a56f5f08c594068bf28cfdb03f728ca",
            "value": 4358
          }
        },
        "45add92c9cec493797d641bbde85d113": {
          "model_module": "@jupyter-widgets/base",
          "model_module_version": "1.2.0",
          "model_name": "LayoutModel",
          "state": {
            "_model_module": "@jupyter-widgets/base",
            "_model_module_version": "1.2.0",
            "_model_name": "LayoutModel",
            "_view_count": null,
            "_view_module": "@jupyter-widgets/base",
            "_view_module_version": "1.2.0",
            "_view_name": "LayoutView",
            "align_content": null,
            "align_items": null,
            "align_self": null,
            "border": null,
            "bottom": null,
            "display": null,
            "flex": null,
            "flex_flow": null,
            "grid_area": null,
            "grid_auto_columns": null,
            "grid_auto_flow": null,
            "grid_auto_rows": null,
            "grid_column": null,
            "grid_gap": null,
            "grid_row": null,
            "grid_template_areas": null,
            "grid_template_columns": null,
            "grid_template_rows": null,
            "height": null,
            "justify_content": null,
            "justify_items": null,
            "left": null,
            "margin": null,
            "max_height": null,
            "max_width": null,
            "min_height": null,
            "min_width": null,
            "object_fit": null,
            "object_position": null,
            "order": null,
            "overflow": null,
            "overflow_x": null,
            "overflow_y": null,
            "padding": null,
            "right": null,
            "top": null,
            "visibility": null,
            "width": null
          }
        },
        "487e6fa596fc414692b883ce57bbfa7a": {
          "model_module": "@jupyter-widgets/controls",
          "model_module_version": "1.5.0",
          "model_name": "HTMLModel",
          "state": {
            "_dom_classes": [],
            "_model_module": "@jupyter-widgets/controls",
            "_model_module_version": "1.5.0",
            "_model_name": "HTMLModel",
            "_view_count": null,
            "_view_module": "@jupyter-widgets/controls",
            "_view_module_version": "1.5.0",
            "_view_name": "HTMLView",
            "description": "",
            "description_tooltip": null,
            "layout": "IPY_MODEL_2def4980caa5407c8ab1653b53bd0b9d",
            "placeholder": "​",
            "style": "IPY_MODEL_f6f36f540b184bd19860f61558f2f8e6",
            "value": "Generating validation split: 100%"
          }
        },
        "4a56f5f08c594068bf28cfdb03f728ca": {
          "model_module": "@jupyter-widgets/controls",
          "model_module_version": "1.5.0",
          "model_name": "ProgressStyleModel",
          "state": {
            "_model_module": "@jupyter-widgets/controls",
            "_model_module_version": "1.5.0",
            "_model_name": "ProgressStyleModel",
            "_view_count": null,
            "_view_module": "@jupyter-widgets/base",
            "_view_module_version": "1.2.0",
            "_view_name": "StyleView",
            "bar_color": null,
            "description_width": ""
          }
        },
        "4d1f0439ae0b47ab97fdb21260032c3c": {
          "model_module": "@jupyter-widgets/controls",
          "model_module_version": "1.5.0",
          "model_name": "HTMLModel",
          "state": {
            "_dom_classes": [],
            "_model_module": "@jupyter-widgets/controls",
            "_model_module_version": "1.5.0",
            "_model_name": "HTMLModel",
            "_view_count": null,
            "_view_module": "@jupyter-widgets/controls",
            "_view_module_version": "1.5.0",
            "_view_name": "HTMLView",
            "description": "",
            "description_tooltip": null,
            "layout": "IPY_MODEL_45add92c9cec493797d641bbde85d113",
            "placeholder": "​",
            "style": "IPY_MODEL_56ae259584c04bdd9062676d8b250548",
            "value": "Downloading builder script: 100%"
          }
        },
        "5246dda4880046d3af25d573536b0a55": {
          "model_module": "@jupyter-widgets/base",
          "model_module_version": "1.2.0",
          "model_name": "LayoutModel",
          "state": {
            "_model_module": "@jupyter-widgets/base",
            "_model_module_version": "1.2.0",
            "_model_name": "LayoutModel",
            "_view_count": null,
            "_view_module": "@jupyter-widgets/base",
            "_view_module_version": "1.2.0",
            "_view_name": "LayoutView",
            "align_content": null,
            "align_items": null,
            "align_self": null,
            "border": null,
            "bottom": null,
            "display": null,
            "flex": null,
            "flex_flow": null,
            "grid_area": null,
            "grid_auto_columns": null,
            "grid_auto_flow": null,
            "grid_auto_rows": null,
            "grid_column": null,
            "grid_gap": null,
            "grid_row": null,
            "grid_template_areas": null,
            "grid_template_columns": null,
            "grid_template_rows": null,
            "height": null,
            "justify_content": null,
            "justify_items": null,
            "left": null,
            "margin": null,
            "max_height": null,
            "max_width": null,
            "min_height": null,
            "min_width": null,
            "object_fit": null,
            "object_position": null,
            "order": null,
            "overflow": null,
            "overflow_x": null,
            "overflow_y": null,
            "padding": null,
            "right": null,
            "top": null,
            "visibility": null,
            "width": null
          }
        },
        "56ae259584c04bdd9062676d8b250548": {
          "model_module": "@jupyter-widgets/controls",
          "model_module_version": "1.5.0",
          "model_name": "DescriptionStyleModel",
          "state": {
            "_model_module": "@jupyter-widgets/controls",
            "_model_module_version": "1.5.0",
            "_model_name": "DescriptionStyleModel",
            "_view_count": null,
            "_view_module": "@jupyter-widgets/base",
            "_view_module_version": "1.2.0",
            "_view_name": "StyleView",
            "description_width": ""
          }
        },
        "56dfc341c27245579518ca99a20b4c20": {
          "model_module": "@jupyter-widgets/base",
          "model_module_version": "1.2.0",
          "model_name": "LayoutModel",
          "state": {
            "_model_module": "@jupyter-widgets/base",
            "_model_module_version": "1.2.0",
            "_model_name": "LayoutModel",
            "_view_count": null,
            "_view_module": "@jupyter-widgets/base",
            "_view_module_version": "1.2.0",
            "_view_name": "LayoutView",
            "align_content": null,
            "align_items": null,
            "align_self": null,
            "border": null,
            "bottom": null,
            "display": null,
            "flex": null,
            "flex_flow": null,
            "grid_area": null,
            "grid_auto_columns": null,
            "grid_auto_flow": null,
            "grid_auto_rows": null,
            "grid_column": null,
            "grid_gap": null,
            "grid_row": null,
            "grid_template_areas": null,
            "grid_template_columns": null,
            "grid_template_rows": null,
            "height": null,
            "justify_content": null,
            "justify_items": null,
            "left": null,
            "margin": null,
            "max_height": null,
            "max_width": null,
            "min_height": null,
            "min_width": null,
            "object_fit": null,
            "object_position": null,
            "order": null,
            "overflow": null,
            "overflow_x": null,
            "overflow_y": null,
            "padding": null,
            "right": null,
            "top": null,
            "visibility": null,
            "width": null
          }
        },
        "5a756bdb2f784c5fb6bfa9daaa67b0bc": {
          "model_module": "@jupyter-widgets/controls",
          "model_module_version": "1.5.0",
          "model_name": "HTMLModel",
          "state": {
            "_dom_classes": [],
            "_model_module": "@jupyter-widgets/controls",
            "_model_module_version": "1.5.0",
            "_model_name": "HTMLModel",
            "_view_count": null,
            "_view_module": "@jupyter-widgets/controls",
            "_view_module_version": "1.5.0",
            "_view_name": "HTMLView",
            "description": "",
            "description_tooltip": null,
            "layout": "IPY_MODEL_77ca94621aec4181ac6ab7f26caeffa6",
            "placeholder": "​",
            "style": "IPY_MODEL_5bdb43c01a3d4c91917cbfb3d392f9ea",
            "value": " 6.84k/6.84k [00:00&lt;00:00, 443kB/s]"
          }
        },
        "5b894953afbb40f898feb731a55e7590": {
          "model_module": "@jupyter-widgets/controls",
          "model_module_version": "1.5.0",
          "model_name": "DescriptionStyleModel",
          "state": {
            "_model_module": "@jupyter-widgets/controls",
            "_model_module_version": "1.5.0",
            "_model_name": "DescriptionStyleModel",
            "_view_count": null,
            "_view_module": "@jupyter-widgets/base",
            "_view_module_version": "1.2.0",
            "_view_name": "StyleView",
            "description_width": ""
          }
        },
        "5bdb43c01a3d4c91917cbfb3d392f9ea": {
          "model_module": "@jupyter-widgets/controls",
          "model_module_version": "1.5.0",
          "model_name": "DescriptionStyleModel",
          "state": {
            "_model_module": "@jupyter-widgets/controls",
            "_model_module_version": "1.5.0",
            "_model_name": "DescriptionStyleModel",
            "_view_count": null,
            "_view_module": "@jupyter-widgets/base",
            "_view_module_version": "1.2.0",
            "_view_name": "StyleView",
            "description_width": ""
          }
        },
        "618cf88128ca411a89556abe05711e73": {
          "model_module": "@jupyter-widgets/controls",
          "model_module_version": "1.5.0",
          "model_name": "HBoxModel",
          "state": {
            "_dom_classes": [],
            "_model_module": "@jupyter-widgets/controls",
            "_model_module_version": "1.5.0",
            "_model_name": "HBoxModel",
            "_view_count": null,
            "_view_module": "@jupyter-widgets/controls",
            "_view_module_version": "1.5.0",
            "_view_name": "HBoxView",
            "box_style": "",
            "children": [
              "IPY_MODEL_e75157fffca8488e845cc509edb9a710",
              "IPY_MODEL_8c1f4b56b0724d1a891701173db4ebf5",
              "IPY_MODEL_11e572c4d60b4921916e5dcc5d2a326e"
            ],
            "layout": "IPY_MODEL_5246dda4880046d3af25d573536b0a55"
          }
        },
        "69246aeb7a0b4c248391b51c48c6c62a": {
          "model_module": "@jupyter-widgets/controls",
          "model_module_version": "1.5.0",
          "model_name": "HTMLModel",
          "state": {
            "_dom_classes": [],
            "_model_module": "@jupyter-widgets/controls",
            "_model_module_version": "1.5.0",
            "_model_name": "HTMLModel",
            "_view_count": null,
            "_view_module": "@jupyter-widgets/controls",
            "_view_module_version": "1.5.0",
            "_view_name": "HTMLView",
            "description": "",
            "description_tooltip": null,
            "layout": "IPY_MODEL_c389a7712c834eb1be043b8ab40a8744",
            "placeholder": "​",
            "style": "IPY_MODEL_af16a0759d5c4cc897b679d2afb560eb",
            "value": "Downloading data: 100%"
          }
        },
        "705884c827664347a49e52cdccb9873d": {
          "model_module": "@jupyter-widgets/controls",
          "model_module_version": "1.5.0",
          "model_name": "HTMLModel",
          "state": {
            "_dom_classes": [],
            "_model_module": "@jupyter-widgets/controls",
            "_model_module_version": "1.5.0",
            "_model_name": "HTMLModel",
            "_view_count": null,
            "_view_module": "@jupyter-widgets/controls",
            "_view_module_version": "1.5.0",
            "_view_name": "HTMLView",
            "description": "",
            "description_tooltip": null,
            "layout": "IPY_MODEL_2227b5b3941a4bcbbb9b0de5eb498189",
            "placeholder": "​",
            "style": "IPY_MODEL_2b88bfc0f1a24728bf3e7cac921c2313",
            "value": " 8.48k/8.48k [00:00&lt;00:00, 474kB/s]"
          }
        },
        "74e74a3663db4c128aea4430371703e6": {
          "model_module": "@jupyter-widgets/controls",
          "model_module_version": "1.5.0",
          "model_name": "DescriptionStyleModel",
          "state": {
            "_model_module": "@jupyter-widgets/controls",
            "_model_module_version": "1.5.0",
            "_model_name": "DescriptionStyleModel",
            "_view_count": null,
            "_view_module": "@jupyter-widgets/base",
            "_view_module_version": "1.2.0",
            "_view_name": "StyleView",
            "description_width": ""
          }
        },
        "74e81f0142574fd38111b14ec5b0c266": {
          "model_module": "@jupyter-widgets/controls",
          "model_module_version": "1.5.0",
          "model_name": "FloatProgressModel",
          "state": {
            "_dom_classes": [],
            "_model_module": "@jupyter-widgets/controls",
            "_model_module_version": "1.5.0",
            "_model_name": "FloatProgressModel",
            "_view_count": null,
            "_view_module": "@jupyter-widgets/controls",
            "_view_module_version": "1.5.0",
            "_view_name": "ProgressView",
            "bar_style": "success",
            "description": "",
            "description_tooltip": null,
            "layout": "IPY_MODEL_f52f0aefb3a94edf8180f42af192db7f",
            "max": 8482,
            "min": 0,
            "orientation": "horizontal",
            "style": "IPY_MODEL_ec3faac38a3b4811897a045bb704ba40",
            "value": 8482
          }
        },
        "758abfa3de174976910890e436364ebe": {
          "model_module": "@jupyter-widgets/controls",
          "model_module_version": "1.5.0",
          "model_name": "FloatProgressModel",
          "state": {
            "_dom_classes": [],
            "_model_module": "@jupyter-widgets/controls",
            "_model_module_version": "1.5.0",
            "_model_name": "FloatProgressModel",
            "_view_count": null,
            "_view_module": "@jupyter-widgets/controls",
            "_view_module_version": "1.5.0",
            "_view_name": "ProgressView",
            "bar_style": "success",
            "description": "",
            "description_tooltip": null,
            "layout": "IPY_MODEL_ba66e8d29ee34aa3943e27229dba3abb",
            "max": 9615,
            "min": 0,
            "orientation": "horizontal",
            "style": "IPY_MODEL_8023690e942d4fa2aaea3650a76b68cc",
            "value": 9615
          }
        },
        "77ca94621aec4181ac6ab7f26caeffa6": {
          "model_module": "@jupyter-widgets/base",
          "model_module_version": "1.2.0",
          "model_name": "LayoutModel",
          "state": {
            "_model_module": "@jupyter-widgets/base",
            "_model_module_version": "1.2.0",
            "_model_name": "LayoutModel",
            "_view_count": null,
            "_view_module": "@jupyter-widgets/base",
            "_view_module_version": "1.2.0",
            "_view_name": "LayoutView",
            "align_content": null,
            "align_items": null,
            "align_self": null,
            "border": null,
            "bottom": null,
            "display": null,
            "flex": null,
            "flex_flow": null,
            "grid_area": null,
            "grid_auto_columns": null,
            "grid_auto_flow": null,
            "grid_auto_rows": null,
            "grid_column": null,
            "grid_gap": null,
            "grid_row": null,
            "grid_template_areas": null,
            "grid_template_columns": null,
            "grid_template_rows": null,
            "height": null,
            "justify_content": null,
            "justify_items": null,
            "left": null,
            "margin": null,
            "max_height": null,
            "max_width": null,
            "min_height": null,
            "min_width": null,
            "object_fit": null,
            "object_position": null,
            "order": null,
            "overflow": null,
            "overflow_x": null,
            "overflow_y": null,
            "padding": null,
            "right": null,
            "top": null,
            "visibility": null,
            "width": null
          }
        },
        "7b59f20719b64d8bb5e7bd187352fdcd": {
          "model_module": "@jupyter-widgets/base",
          "model_module_version": "1.2.0",
          "model_name": "LayoutModel",
          "state": {
            "_model_module": "@jupyter-widgets/base",
            "_model_module_version": "1.2.0",
            "_model_name": "LayoutModel",
            "_view_count": null,
            "_view_module": "@jupyter-widgets/base",
            "_view_module_version": "1.2.0",
            "_view_name": "LayoutView",
            "align_content": null,
            "align_items": null,
            "align_self": null,
            "border": null,
            "bottom": null,
            "display": null,
            "flex": null,
            "flex_flow": null,
            "grid_area": null,
            "grid_auto_columns": null,
            "grid_auto_flow": null,
            "grid_auto_rows": null,
            "grid_column": null,
            "grid_gap": null,
            "grid_row": null,
            "grid_template_areas": null,
            "grid_template_columns": null,
            "grid_template_rows": null,
            "height": null,
            "justify_content": null,
            "justify_items": null,
            "left": null,
            "margin": null,
            "max_height": null,
            "max_width": null,
            "min_height": null,
            "min_width": null,
            "object_fit": null,
            "object_position": null,
            "order": null,
            "overflow": null,
            "overflow_x": null,
            "overflow_y": null,
            "padding": null,
            "right": null,
            "top": null,
            "visibility": null,
            "width": null
          }
        },
        "7c9ef3c67949417fa5397376cbc77d51": {
          "model_module": "@jupyter-widgets/controls",
          "model_module_version": "1.5.0",
          "model_name": "ProgressStyleModel",
          "state": {
            "_model_module": "@jupyter-widgets/controls",
            "_model_module_version": "1.5.0",
            "_model_name": "ProgressStyleModel",
            "_view_count": null,
            "_view_module": "@jupyter-widgets/base",
            "_view_module_version": "1.2.0",
            "_view_name": "StyleView",
            "bar_color": null,
            "description_width": ""
          }
        },
        "8023690e942d4fa2aaea3650a76b68cc": {
          "model_module": "@jupyter-widgets/controls",
          "model_module_version": "1.5.0",
          "model_name": "ProgressStyleModel",
          "state": {
            "_model_module": "@jupyter-widgets/controls",
            "_model_module_version": "1.5.0",
            "_model_name": "ProgressStyleModel",
            "_view_count": null,
            "_view_module": "@jupyter-widgets/base",
            "_view_module_version": "1.2.0",
            "_view_name": "StyleView",
            "bar_color": null,
            "description_width": ""
          }
        },
        "82e8dc6b942341ce8b90dc193a1d7e9f": {
          "model_module": "@jupyter-widgets/base",
          "model_module_version": "1.2.0",
          "model_name": "LayoutModel",
          "state": {
            "_model_module": "@jupyter-widgets/base",
            "_model_module_version": "1.2.0",
            "_model_name": "LayoutModel",
            "_view_count": null,
            "_view_module": "@jupyter-widgets/base",
            "_view_module_version": "1.2.0",
            "_view_name": "LayoutView",
            "align_content": null,
            "align_items": null,
            "align_self": null,
            "border": null,
            "bottom": null,
            "display": null,
            "flex": null,
            "flex_flow": null,
            "grid_area": null,
            "grid_auto_columns": null,
            "grid_auto_flow": null,
            "grid_auto_rows": null,
            "grid_column": null,
            "grid_gap": null,
            "grid_row": null,
            "grid_template_areas": null,
            "grid_template_columns": null,
            "grid_template_rows": null,
            "height": null,
            "justify_content": null,
            "justify_items": null,
            "left": null,
            "margin": null,
            "max_height": null,
            "max_width": null,
            "min_height": null,
            "min_width": null,
            "object_fit": null,
            "object_position": null,
            "order": null,
            "overflow": null,
            "overflow_x": null,
            "overflow_y": null,
            "padding": null,
            "right": null,
            "top": null,
            "visibility": null,
            "width": null
          }
        },
        "88e2214404d447cd8d9eae272bf9931f": {
          "model_module": "@jupyter-widgets/controls",
          "model_module_version": "1.5.0",
          "model_name": "HTMLModel",
          "state": {
            "_dom_classes": [],
            "_model_module": "@jupyter-widgets/controls",
            "_model_module_version": "1.5.0",
            "_model_name": "HTMLModel",
            "_view_count": null,
            "_view_module": "@jupyter-widgets/controls",
            "_view_module_version": "1.5.0",
            "_view_name": "HTMLView",
            "description": "",
            "description_tooltip": null,
            "layout": "IPY_MODEL_41dfbb26eb8144039de38a785515c782",
            "placeholder": "​",
            "style": "IPY_MODEL_2383c2d30c904191b2dcb05759225cc3",
            "value": "Downloading readme: 100%"
          }
        },
        "8c1f4b56b0724d1a891701173db4ebf5": {
          "model_module": "@jupyter-widgets/controls",
          "model_module_version": "1.5.0",
          "model_name": "FloatProgressModel",
          "state": {
            "_dom_classes": [],
            "_model_module": "@jupyter-widgets/controls",
            "_model_module_version": "1.5.0",
            "_model_name": "FloatProgressModel",
            "_view_count": null,
            "_view_module": "@jupyter-widgets/controls",
            "_view_module_version": "1.5.0",
            "_view_name": "ProgressView",
            "bar_style": "success",
            "description": "",
            "description_tooltip": null,
            "layout": "IPY_MODEL_b14c6894ae994a6aa33a6bc907f534b9",
            "max": 36718,
            "min": 0,
            "orientation": "horizontal",
            "style": "IPY_MODEL_9c7a5a35dd23497b86a02619bbdf9ea2",
            "value": 36718
          }
        },
        "95b09b690d494390b09b953ce590d18d": {
          "model_module": "@jupyter-widgets/controls",
          "model_module_version": "1.5.0",
          "model_name": "HBoxModel",
          "state": {
            "_dom_classes": [],
            "_model_module": "@jupyter-widgets/controls",
            "_model_module_version": "1.5.0",
            "_model_name": "HBoxModel",
            "_view_count": null,
            "_view_module": "@jupyter-widgets/controls",
            "_view_module_version": "1.5.0",
            "_view_name": "HBoxView",
            "box_style": "",
            "children": [
              "IPY_MODEL_69246aeb7a0b4c248391b51c48c6c62a",
              "IPY_MODEL_f908c5988a0043708e76daa25788c293",
              "IPY_MODEL_c196a85d1763419cb8a3cd3ead744f13"
            ],
            "layout": "IPY_MODEL_7b59f20719b64d8bb5e7bd187352fdcd"
          }
        },
        "95f5d8d2f76b4974970e597b5eb76635": {
          "model_module": "@jupyter-widgets/controls",
          "model_module_version": "1.5.0",
          "model_name": "HBoxModel",
          "state": {
            "_dom_classes": [],
            "_model_module": "@jupyter-widgets/controls",
            "_model_module_version": "1.5.0",
            "_model_name": "HBoxModel",
            "_view_count": null,
            "_view_module": "@jupyter-widgets/controls",
            "_view_module_version": "1.5.0",
            "_view_name": "HBoxView",
            "box_style": "",
            "children": [
              "IPY_MODEL_88e2214404d447cd8d9eae272bf9931f",
              "IPY_MODEL_758abfa3de174976910890e436364ebe",
              "IPY_MODEL_10da3ff973d947df898861ac71ff48e3"
            ],
            "layout": "IPY_MODEL_13442d4a2a3a4170b9b31b1e5073be36"
          }
        },
        "986d2c46a2f640f9a366d8edb36c992e": {
          "model_module": "@jupyter-widgets/base",
          "model_module_version": "1.2.0",
          "model_name": "LayoutModel",
          "state": {
            "_model_module": "@jupyter-widgets/base",
            "_model_module_version": "1.2.0",
            "_model_name": "LayoutModel",
            "_view_count": null,
            "_view_module": "@jupyter-widgets/base",
            "_view_module_version": "1.2.0",
            "_view_name": "LayoutView",
            "align_content": null,
            "align_items": null,
            "align_self": null,
            "border": null,
            "bottom": null,
            "display": null,
            "flex": null,
            "flex_flow": null,
            "grid_area": null,
            "grid_auto_columns": null,
            "grid_auto_flow": null,
            "grid_auto_rows": null,
            "grid_column": null,
            "grid_gap": null,
            "grid_row": null,
            "grid_template_areas": null,
            "grid_template_columns": null,
            "grid_template_rows": null,
            "height": null,
            "justify_content": null,
            "justify_items": null,
            "left": null,
            "margin": null,
            "max_height": null,
            "max_width": null,
            "min_height": null,
            "min_width": null,
            "object_fit": null,
            "object_position": null,
            "order": null,
            "overflow": null,
            "overflow_x": null,
            "overflow_y": null,
            "padding": null,
            "right": null,
            "top": null,
            "visibility": null,
            "width": null
          }
        },
        "9c7a5a35dd23497b86a02619bbdf9ea2": {
          "model_module": "@jupyter-widgets/controls",
          "model_module_version": "1.5.0",
          "model_name": "ProgressStyleModel",
          "state": {
            "_model_module": "@jupyter-widgets/controls",
            "_model_module_version": "1.5.0",
            "_model_name": "ProgressStyleModel",
            "_view_count": null,
            "_view_module": "@jupyter-widgets/base",
            "_view_module_version": "1.2.0",
            "_view_name": "StyleView",
            "bar_color": null,
            "description_width": ""
          }
        },
        "a019103cdc384008a9ef96526f421c62": {
          "model_module": "@jupyter-widgets/controls",
          "model_module_version": "1.5.0",
          "model_name": "HBoxModel",
          "state": {
            "_dom_classes": [],
            "_model_module": "@jupyter-widgets/controls",
            "_model_module_version": "1.5.0",
            "_model_name": "HBoxModel",
            "_view_count": null,
            "_view_module": "@jupyter-widgets/controls",
            "_view_module_version": "1.5.0",
            "_view_name": "HBoxView",
            "box_style": "",
            "children": [
              "IPY_MODEL_d1ac8610a55543b58216fd83d59377db",
              "IPY_MODEL_45448728f6de40868b36b490acc73bbd",
              "IPY_MODEL_2ac5a54352e1450f8f56f47e28c31c3c"
            ],
            "layout": "IPY_MODEL_4160a96df1d746c9887933df0efa4991"
          }
        },
        "a826f1e3a8554c98963918317ccf74bd": {
          "model_module": "@jupyter-widgets/controls",
          "model_module_version": "1.5.0",
          "model_name": "ProgressStyleModel",
          "state": {
            "_model_module": "@jupyter-widgets/controls",
            "_model_module_version": "1.5.0",
            "_model_name": "ProgressStyleModel",
            "_view_count": null,
            "_view_module": "@jupyter-widgets/base",
            "_view_module_version": "1.2.0",
            "_view_name": "StyleView",
            "bar_color": null,
            "description_width": ""
          }
        },
        "ae1e42324c414c80955a727df6285ef7": {
          "model_module": "@jupyter-widgets/controls",
          "model_module_version": "1.5.0",
          "model_name": "HBoxModel",
          "state": {
            "_dom_classes": [],
            "_model_module": "@jupyter-widgets/controls",
            "_model_module_version": "1.5.0",
            "_model_name": "HBoxModel",
            "_view_count": null,
            "_view_module": "@jupyter-widgets/controls",
            "_view_module_version": "1.5.0",
            "_view_name": "HBoxView",
            "box_style": "",
            "children": [
              "IPY_MODEL_487e6fa596fc414692b883ce57bbfa7a",
              "IPY_MODEL_ce100600f7394ee1969c09d9045905ac",
              "IPY_MODEL_1b1bf00f2f6342b7a2ad49bf85760dac"
            ],
            "layout": "IPY_MODEL_eeb32d3c1f214b2bae3582da68c24268"
          }
        },
        "af16a0759d5c4cc897b679d2afb560eb": {
          "model_module": "@jupyter-widgets/controls",
          "model_module_version": "1.5.0",
          "model_name": "DescriptionStyleModel",
          "state": {
            "_model_module": "@jupyter-widgets/controls",
            "_model_module_version": "1.5.0",
            "_model_name": "DescriptionStyleModel",
            "_view_count": null,
            "_view_module": "@jupyter-widgets/base",
            "_view_module_version": "1.2.0",
            "_view_name": "StyleView",
            "description_width": ""
          }
        },
        "b14c6894ae994a6aa33a6bc907f534b9": {
          "model_module": "@jupyter-widgets/base",
          "model_module_version": "1.2.0",
          "model_name": "LayoutModel",
          "state": {
            "_model_module": "@jupyter-widgets/base",
            "_model_module_version": "1.2.0",
            "_model_name": "LayoutModel",
            "_view_count": null,
            "_view_module": "@jupyter-widgets/base",
            "_view_module_version": "1.2.0",
            "_view_name": "LayoutView",
            "align_content": null,
            "align_items": null,
            "align_self": null,
            "border": null,
            "bottom": null,
            "display": null,
            "flex": null,
            "flex_flow": null,
            "grid_area": null,
            "grid_auto_columns": null,
            "grid_auto_flow": null,
            "grid_auto_rows": null,
            "grid_column": null,
            "grid_gap": null,
            "grid_row": null,
            "grid_template_areas": null,
            "grid_template_columns": null,
            "grid_template_rows": null,
            "height": null,
            "justify_content": null,
            "justify_items": null,
            "left": null,
            "margin": null,
            "max_height": null,
            "max_width": null,
            "min_height": null,
            "min_width": null,
            "object_fit": null,
            "object_position": null,
            "order": null,
            "overflow": null,
            "overflow_x": null,
            "overflow_y": null,
            "padding": null,
            "right": null,
            "top": null,
            "visibility": null,
            "width": null
          }
        },
        "b511fa05141a495ab6f6d2df8c9ea67e": {
          "model_module": "@jupyter-widgets/controls",
          "model_module_version": "1.5.0",
          "model_name": "FloatProgressModel",
          "state": {
            "_dom_classes": [],
            "_model_module": "@jupyter-widgets/controls",
            "_model_module_version": "1.5.0",
            "_model_name": "FloatProgressModel",
            "_view_count": null,
            "_view_module": "@jupyter-widgets/controls",
            "_view_module_version": "1.5.0",
            "_view_name": "ProgressView",
            "bar_style": "success",
            "description": "",
            "description_tooltip": null,
            "layout": "IPY_MODEL_de6208ef2549471ca7a81108171db224",
            "max": 6838,
            "min": 0,
            "orientation": "horizontal",
            "style": "IPY_MODEL_a826f1e3a8554c98963918317ccf74bd",
            "value": 6838
          }
        },
        "ba66e8d29ee34aa3943e27229dba3abb": {
          "model_module": "@jupyter-widgets/base",
          "model_module_version": "1.2.0",
          "model_name": "LayoutModel",
          "state": {
            "_model_module": "@jupyter-widgets/base",
            "_model_module_version": "1.2.0",
            "_model_name": "LayoutModel",
            "_view_count": null,
            "_view_module": "@jupyter-widgets/base",
            "_view_module_version": "1.2.0",
            "_view_name": "LayoutView",
            "align_content": null,
            "align_items": null,
            "align_self": null,
            "border": null,
            "bottom": null,
            "display": null,
            "flex": null,
            "flex_flow": null,
            "grid_area": null,
            "grid_auto_columns": null,
            "grid_auto_flow": null,
            "grid_auto_rows": null,
            "grid_column": null,
            "grid_gap": null,
            "grid_row": null,
            "grid_template_areas": null,
            "grid_template_columns": null,
            "grid_template_rows": null,
            "height": null,
            "justify_content": null,
            "justify_items": null,
            "left": null,
            "margin": null,
            "max_height": null,
            "max_width": null,
            "min_height": null,
            "min_width": null,
            "object_fit": null,
            "object_position": null,
            "order": null,
            "overflow": null,
            "overflow_x": null,
            "overflow_y": null,
            "padding": null,
            "right": null,
            "top": null,
            "visibility": null,
            "width": null
          }
        },
        "c196a85d1763419cb8a3cd3ead744f13": {
          "model_module": "@jupyter-widgets/controls",
          "model_module_version": "1.5.0",
          "model_name": "HTMLModel",
          "state": {
            "_dom_classes": [],
            "_model_module": "@jupyter-widgets/controls",
            "_model_module_version": "1.5.0",
            "_model_name": "HTMLModel",
            "_view_count": null,
            "_view_module": "@jupyter-widgets/controls",
            "_view_module_version": "1.5.0",
            "_view_name": "HTMLView",
            "description": "",
            "description_tooltip": null,
            "layout": "IPY_MODEL_0c4e3d7f482d4d9695b170c92c41fff6",
            "placeholder": "​",
            "style": "IPY_MODEL_f1e9e0c6bf644327ad65708807309965",
            "value": " 4.72M/4.72M [00:00&lt;00:00, 9.22MB/s]"
          }
        },
        "c389a7712c834eb1be043b8ab40a8744": {
          "model_module": "@jupyter-widgets/base",
          "model_module_version": "1.2.0",
          "model_name": "LayoutModel",
          "state": {
            "_model_module": "@jupyter-widgets/base",
            "_model_module_version": "1.2.0",
            "_model_name": "LayoutModel",
            "_view_count": null,
            "_view_module": "@jupyter-widgets/base",
            "_view_module_version": "1.2.0",
            "_view_name": "LayoutView",
            "align_content": null,
            "align_items": null,
            "align_self": null,
            "border": null,
            "bottom": null,
            "display": null,
            "flex": null,
            "flex_flow": null,
            "grid_area": null,
            "grid_auto_columns": null,
            "grid_auto_flow": null,
            "grid_auto_rows": null,
            "grid_column": null,
            "grid_gap": null,
            "grid_row": null,
            "grid_template_areas": null,
            "grid_template_columns": null,
            "grid_template_rows": null,
            "height": null,
            "justify_content": null,
            "justify_items": null,
            "left": null,
            "margin": null,
            "max_height": null,
            "max_width": null,
            "min_height": null,
            "min_width": null,
            "object_fit": null,
            "object_position": null,
            "order": null,
            "overflow": null,
            "overflow_x": null,
            "overflow_y": null,
            "padding": null,
            "right": null,
            "top": null,
            "visibility": null,
            "width": null
          }
        },
        "cc560b6674fa4477a52e87e4fbcd66d0": {
          "model_module": "@jupyter-widgets/base",
          "model_module_version": "1.2.0",
          "model_name": "LayoutModel",
          "state": {
            "_model_module": "@jupyter-widgets/base",
            "_model_module_version": "1.2.0",
            "_model_name": "LayoutModel",
            "_view_count": null,
            "_view_module": "@jupyter-widgets/base",
            "_view_module_version": "1.2.0",
            "_view_name": "LayoutView",
            "align_content": null,
            "align_items": null,
            "align_self": null,
            "border": null,
            "bottom": null,
            "display": null,
            "flex": null,
            "flex_flow": null,
            "grid_area": null,
            "grid_auto_columns": null,
            "grid_auto_flow": null,
            "grid_auto_rows": null,
            "grid_column": null,
            "grid_gap": null,
            "grid_row": null,
            "grid_template_areas": null,
            "grid_template_columns": null,
            "grid_template_rows": null,
            "height": null,
            "justify_content": null,
            "justify_items": null,
            "left": null,
            "margin": null,
            "max_height": null,
            "max_width": null,
            "min_height": null,
            "min_width": null,
            "object_fit": null,
            "object_position": null,
            "order": null,
            "overflow": null,
            "overflow_x": null,
            "overflow_y": null,
            "padding": null,
            "right": null,
            "top": null,
            "visibility": null,
            "width": null
          }
        },
        "ce100600f7394ee1969c09d9045905ac": {
          "model_module": "@jupyter-widgets/controls",
          "model_module_version": "1.5.0",
          "model_name": "FloatProgressModel",
          "state": {
            "_dom_classes": [],
            "_model_module": "@jupyter-widgets/controls",
            "_model_module_version": "1.5.0",
            "_model_name": "FloatProgressModel",
            "_view_count": null,
            "_view_module": "@jupyter-widgets/controls",
            "_view_module_version": "1.5.0",
            "_view_name": "ProgressView",
            "bar_style": "success",
            "description": "",
            "description_tooltip": null,
            "layout": "IPY_MODEL_082df8da2e7f45dea4f45654f682572f",
            "max": 3760,
            "min": 0,
            "orientation": "horizontal",
            "style": "IPY_MODEL_e9248fc3052849c0b5a661a1a2cb0c6e",
            "value": 3760
          }
        },
        "d1ac8610a55543b58216fd83d59377db": {
          "model_module": "@jupyter-widgets/controls",
          "model_module_version": "1.5.0",
          "model_name": "HTMLModel",
          "state": {
            "_dom_classes": [],
            "_model_module": "@jupyter-widgets/controls",
            "_model_module_version": "1.5.0",
            "_model_name": "HTMLModel",
            "_view_count": null,
            "_view_module": "@jupyter-widgets/controls",
            "_view_module_version": "1.5.0",
            "_view_name": "HTMLView",
            "description": "",
            "description_tooltip": null,
            "layout": "IPY_MODEL_3ecb6bfa00c043bfb68678332c943a24",
            "placeholder": "​",
            "style": "IPY_MODEL_124c33c46f05416cb764b1e0f55ae522",
            "value": "Generating test split: 100%"
          }
        },
        "d20935685c6f4654aa4bc7af9c2fb538": {
          "model_module": "@jupyter-widgets/controls",
          "model_module_version": "1.5.0",
          "model_name": "DescriptionStyleModel",
          "state": {
            "_model_module": "@jupyter-widgets/controls",
            "_model_module_version": "1.5.0",
            "_model_name": "DescriptionStyleModel",
            "_view_count": null,
            "_view_module": "@jupyter-widgets/base",
            "_view_module_version": "1.2.0",
            "_view_name": "StyleView",
            "description_width": ""
          }
        },
        "d215db73b91c4e45ad5fb0554eac9a4d": {
          "model_module": "@jupyter-widgets/base",
          "model_module_version": "1.2.0",
          "model_name": "LayoutModel",
          "state": {
            "_model_module": "@jupyter-widgets/base",
            "_model_module_version": "1.2.0",
            "_model_name": "LayoutModel",
            "_view_count": null,
            "_view_module": "@jupyter-widgets/base",
            "_view_module_version": "1.2.0",
            "_view_name": "LayoutView",
            "align_content": null,
            "align_items": null,
            "align_self": null,
            "border": null,
            "bottom": null,
            "display": null,
            "flex": null,
            "flex_flow": null,
            "grid_area": null,
            "grid_auto_columns": null,
            "grid_auto_flow": null,
            "grid_auto_rows": null,
            "grid_column": null,
            "grid_gap": null,
            "grid_row": null,
            "grid_template_areas": null,
            "grid_template_columns": null,
            "grid_template_rows": null,
            "height": null,
            "justify_content": null,
            "justify_items": null,
            "left": null,
            "margin": null,
            "max_height": null,
            "max_width": null,
            "min_height": null,
            "min_width": null,
            "object_fit": null,
            "object_position": null,
            "order": null,
            "overflow": null,
            "overflow_x": null,
            "overflow_y": null,
            "padding": null,
            "right": null,
            "top": null,
            "visibility": null,
            "width": null
          }
        },
        "de6208ef2549471ca7a81108171db224": {
          "model_module": "@jupyter-widgets/base",
          "model_module_version": "1.2.0",
          "model_name": "LayoutModel",
          "state": {
            "_model_module": "@jupyter-widgets/base",
            "_model_module_version": "1.2.0",
            "_model_name": "LayoutModel",
            "_view_count": null,
            "_view_module": "@jupyter-widgets/base",
            "_view_module_version": "1.2.0",
            "_view_name": "LayoutView",
            "align_content": null,
            "align_items": null,
            "align_self": null,
            "border": null,
            "bottom": null,
            "display": null,
            "flex": null,
            "flex_flow": null,
            "grid_area": null,
            "grid_auto_columns": null,
            "grid_auto_flow": null,
            "grid_auto_rows": null,
            "grid_column": null,
            "grid_gap": null,
            "grid_row": null,
            "grid_template_areas": null,
            "grid_template_columns": null,
            "grid_template_rows": null,
            "height": null,
            "justify_content": null,
            "justify_items": null,
            "left": null,
            "margin": null,
            "max_height": null,
            "max_width": null,
            "min_height": null,
            "min_width": null,
            "object_fit": null,
            "object_position": null,
            "order": null,
            "overflow": null,
            "overflow_x": null,
            "overflow_y": null,
            "padding": null,
            "right": null,
            "top": null,
            "visibility": null,
            "width": null
          }
        },
        "e75157fffca8488e845cc509edb9a710": {
          "model_module": "@jupyter-widgets/controls",
          "model_module_version": "1.5.0",
          "model_name": "HTMLModel",
          "state": {
            "_dom_classes": [],
            "_model_module": "@jupyter-widgets/controls",
            "_model_module_version": "1.5.0",
            "_model_name": "HTMLModel",
            "_view_count": null,
            "_view_module": "@jupyter-widgets/controls",
            "_view_module_version": "1.5.0",
            "_view_name": "HTMLView",
            "description": "",
            "description_tooltip": null,
            "layout": "IPY_MODEL_19f0dc6413ca463ea79f09866633af80",
            "placeholder": "​",
            "style": "IPY_MODEL_74e74a3663db4c128aea4430371703e6",
            "value": "Generating train split: 100%"
          }
        },
        "e9248fc3052849c0b5a661a1a2cb0c6e": {
          "model_module": "@jupyter-widgets/controls",
          "model_module_version": "1.5.0",
          "model_name": "ProgressStyleModel",
          "state": {
            "_model_module": "@jupyter-widgets/controls",
            "_model_module_version": "1.5.0",
            "_model_name": "ProgressStyleModel",
            "_view_count": null,
            "_view_module": "@jupyter-widgets/base",
            "_view_module_version": "1.2.0",
            "_view_name": "StyleView",
            "bar_color": null,
            "description_width": ""
          }
        },
        "ec3faac38a3b4811897a045bb704ba40": {
          "model_module": "@jupyter-widgets/controls",
          "model_module_version": "1.5.0",
          "model_name": "ProgressStyleModel",
          "state": {
            "_model_module": "@jupyter-widgets/controls",
            "_model_module_version": "1.5.0",
            "_model_name": "ProgressStyleModel",
            "_view_count": null,
            "_view_module": "@jupyter-widgets/base",
            "_view_module_version": "1.2.0",
            "_view_name": "StyleView",
            "bar_color": null,
            "description_width": ""
          }
        },
        "eeb32d3c1f214b2bae3582da68c24268": {
          "model_module": "@jupyter-widgets/base",
          "model_module_version": "1.2.0",
          "model_name": "LayoutModel",
          "state": {
            "_model_module": "@jupyter-widgets/base",
            "_model_module_version": "1.2.0",
            "_model_name": "LayoutModel",
            "_view_count": null,
            "_view_module": "@jupyter-widgets/base",
            "_view_module_version": "1.2.0",
            "_view_name": "LayoutView",
            "align_content": null,
            "align_items": null,
            "align_self": null,
            "border": null,
            "bottom": null,
            "display": null,
            "flex": null,
            "flex_flow": null,
            "grid_area": null,
            "grid_auto_columns": null,
            "grid_auto_flow": null,
            "grid_auto_rows": null,
            "grid_column": null,
            "grid_gap": null,
            "grid_row": null,
            "grid_template_areas": null,
            "grid_template_columns": null,
            "grid_template_rows": null,
            "height": null,
            "justify_content": null,
            "justify_items": null,
            "left": null,
            "margin": null,
            "max_height": null,
            "max_width": null,
            "min_height": null,
            "min_width": null,
            "object_fit": null,
            "object_position": null,
            "order": null,
            "overflow": null,
            "overflow_x": null,
            "overflow_y": null,
            "padding": null,
            "right": null,
            "top": null,
            "visibility": null,
            "width": null
          }
        },
        "f1e9e0c6bf644327ad65708807309965": {
          "model_module": "@jupyter-widgets/controls",
          "model_module_version": "1.5.0",
          "model_name": "DescriptionStyleModel",
          "state": {
            "_model_module": "@jupyter-widgets/controls",
            "_model_module_version": "1.5.0",
            "_model_name": "DescriptionStyleModel",
            "_view_count": null,
            "_view_module": "@jupyter-widgets/base",
            "_view_module_version": "1.2.0",
            "_view_name": "StyleView",
            "description_width": ""
          }
        },
        "f52f0aefb3a94edf8180f42af192db7f": {
          "model_module": "@jupyter-widgets/base",
          "model_module_version": "1.2.0",
          "model_name": "LayoutModel",
          "state": {
            "_model_module": "@jupyter-widgets/base",
            "_model_module_version": "1.2.0",
            "_model_name": "LayoutModel",
            "_view_count": null,
            "_view_module": "@jupyter-widgets/base",
            "_view_module_version": "1.2.0",
            "_view_name": "LayoutView",
            "align_content": null,
            "align_items": null,
            "align_self": null,
            "border": null,
            "bottom": null,
            "display": null,
            "flex": null,
            "flex_flow": null,
            "grid_area": null,
            "grid_auto_columns": null,
            "grid_auto_flow": null,
            "grid_auto_rows": null,
            "grid_column": null,
            "grid_gap": null,
            "grid_row": null,
            "grid_template_areas": null,
            "grid_template_columns": null,
            "grid_template_rows": null,
            "height": null,
            "justify_content": null,
            "justify_items": null,
            "left": null,
            "margin": null,
            "max_height": null,
            "max_width": null,
            "min_height": null,
            "min_width": null,
            "object_fit": null,
            "object_position": null,
            "order": null,
            "overflow": null,
            "overflow_x": null,
            "overflow_y": null,
            "padding": null,
            "right": null,
            "top": null,
            "visibility": null,
            "width": null
          }
        },
        "f58c3434c6f8451998f35da592746e34": {
          "model_module": "@jupyter-widgets/base",
          "model_module_version": "1.2.0",
          "model_name": "LayoutModel",
          "state": {
            "_model_module": "@jupyter-widgets/base",
            "_model_module_version": "1.2.0",
            "_model_name": "LayoutModel",
            "_view_count": null,
            "_view_module": "@jupyter-widgets/base",
            "_view_module_version": "1.2.0",
            "_view_name": "LayoutView",
            "align_content": null,
            "align_items": null,
            "align_self": null,
            "border": null,
            "bottom": null,
            "display": null,
            "flex": null,
            "flex_flow": null,
            "grid_area": null,
            "grid_auto_columns": null,
            "grid_auto_flow": null,
            "grid_auto_rows": null,
            "grid_column": null,
            "grid_gap": null,
            "grid_row": null,
            "grid_template_areas": null,
            "grid_template_columns": null,
            "grid_template_rows": null,
            "height": null,
            "justify_content": null,
            "justify_items": null,
            "left": null,
            "margin": null,
            "max_height": null,
            "max_width": null,
            "min_height": null,
            "min_width": null,
            "object_fit": null,
            "object_position": null,
            "order": null,
            "overflow": null,
            "overflow_x": null,
            "overflow_y": null,
            "padding": null,
            "right": null,
            "top": null,
            "visibility": null,
            "width": null
          }
        },
        "f6f36f540b184bd19860f61558f2f8e6": {
          "model_module": "@jupyter-widgets/controls",
          "model_module_version": "1.5.0",
          "model_name": "DescriptionStyleModel",
          "state": {
            "_model_module": "@jupyter-widgets/controls",
            "_model_module_version": "1.5.0",
            "_model_name": "DescriptionStyleModel",
            "_view_count": null,
            "_view_module": "@jupyter-widgets/base",
            "_view_module_version": "1.2.0",
            "_view_name": "StyleView",
            "description_width": ""
          }
        },
        "f908c5988a0043708e76daa25788c293": {
          "model_module": "@jupyter-widgets/controls",
          "model_module_version": "1.5.0",
          "model_name": "FloatProgressModel",
          "state": {
            "_dom_classes": [],
            "_model_module": "@jupyter-widgets/controls",
            "_model_module_version": "1.5.0",
            "_model_name": "FloatProgressModel",
            "_view_count": null,
            "_view_module": "@jupyter-widgets/controls",
            "_view_module_version": "1.5.0",
            "_view_name": "ProgressView",
            "bar_style": "success",
            "description": "",
            "description_tooltip": null,
            "layout": "IPY_MODEL_19891687a4814ab496767d55166c14eb",
            "max": 4721645,
            "min": 0,
            "orientation": "horizontal",
            "style": "IPY_MODEL_7c9ef3c67949417fa5397376cbc77d51",
            "value": 4721645
          }
        },
        "fcf3df74998e4e54ae30f86db66e790a": {
          "model_module": "@jupyter-widgets/controls",
          "model_module_version": "1.5.0",
          "model_name": "HTMLModel",
          "state": {
            "_dom_classes": [],
            "_model_module": "@jupyter-widgets/controls",
            "_model_module_version": "1.5.0",
            "_model_name": "HTMLModel",
            "_view_count": null,
            "_view_module": "@jupyter-widgets/controls",
            "_view_module_version": "1.5.0",
            "_view_name": "HTMLView",
            "description": "",
            "description_tooltip": null,
            "layout": "IPY_MODEL_34493697bb6a4e52b6f30426a81e81d6",
            "placeholder": "​",
            "style": "IPY_MODEL_31de21be72714c8baf592ef0ea72ee7a",
            "value": "Downloading metadata: 100%"
          }
        }
      }
    }
  },
  "nbformat": 4,
  "nbformat_minor": 0
}
